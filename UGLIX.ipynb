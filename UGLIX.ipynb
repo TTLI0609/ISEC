{
 "cells": [
  {
   "cell_type": "code",
   "execution_count": 27,
   "metadata": {},
   "outputs": [],
   "source": [
    "%run UGLIX_FONCTIONS.ipynb\n",
    "%run UGLIX_HACKADEMY.ipynb"
   ]
  },
  {
   "cell_type": "code",
   "execution_count": 28,
   "metadata": {},
   "outputs": [],
   "source": [
    "# ==========================================================\n",
    "# ===================== Connection =========================\n",
    "# ==========================================================\n",
    "c = Connection()\n",
    "\n",
    "# ------ ECHO ------\n",
    "# get ＝ permet de recuperer la page = executer un prog sans argument\n",
    "#c.get('/bin/echo')\n",
    "#home = c.get('/home')\n",
    "\n",
    "\n",
    "# post ＝ lancer un prog avec argument\n",
    "#c.post('/bin/echo', string=\"toto\", list_example=[True, 42, {'foo': 'bar'}])"
   ]
  },
  {
   "cell_type": "code",
   "execution_count": 29,
   "metadata": {},
   "outputs": [],
   "source": [
    "# ==========================================================\n",
    "# ======================= guest ============================\n",
    "# ==========================================================\n",
    " \n",
    "#print(c.post('/bin/login',user=\"guest\",password=\"guest\"))\n",
    "#print(c.get('/home/guest'))\n",
    "\n",
    "# ------NASA.bin------\n",
    "#mes_encoder = c.get('/home/guest/NASA.bin')\n",
    "#mes_decoder = decrypt(mes_encoder, \"ISEC\")\n",
    "#print(mes_decoder)\n",
    "\n",
    "# ------INBOX------\n",
    "#num = c.get('/home/guest/INBOX/unread')         #liste des identifiants numériques des emails non-lus\n",
    "#print(c.get(\"/home/guest/INBOX/\"+str(num[0])))  # ../body, /subject, /sender\n",
    "\n"
   ]
  },
  {
   "cell_type": "code",
   "execution_count": 30,
   "metadata": {},
   "outputs": [
    {
     "name": "stdout",
     "output_type": "stream",
     "text": [
      "PAP login successful. Access to /home/theresagomez granted.\n",
      "[ You have new mail ]\n",
      "\n"
     ]
    }
   ],
   "source": [
    "# =============================\n",
    "#  nom         : Matthew Brown\n",
    "#  entreprise  : Monroe-Browning\n",
    "#  login       : theresagomez\n",
    "#  password    : +JskVIss03\n",
    "# =============================\n",
    "\n",
    "print(c.post('/bin/login',user=\"theresagomez\",password=\"+JskVIss03\"))\n",
    "#print(c.get(\"/home/theresagomez/INBOX\"))\n",
    "\n",
    "# =========================================================\n",
    "# ================== helpdesk =============================\n",
    "# =========================================================\n",
    "\n",
    "# ------ tuto ----------\n",
    "'''\n",
    "print(c.get('/bin/crypto_helpdesk/ticket/389'))                   \n",
    "print(c.get('/bin/crypto_helpdesk/ticket/389/attachment/client'))  # existe pour tout ticket\n",
    "dico = {}\n",
    "dico['foo'] = c.get('/bin/crypto_helpdesk/ticket/389/attachment/fetch-me')\n",
    "dico['bar'] = 42\n",
    "print(c.post('/bin/sendmail', to='callahanbobby',subject='', content=dico))\n",
    "print(c.post('/bin/crypto_helpdesk/ticket/389/close'))             # ui \n",
    "'''\n",
    "# ------- chiffrer ------\n",
    "'''\n",
    "print(c.get('/bin/crypto_helpdesk/ticket/390'))\n",
    "password = c.get('/bin/crypto_helpdesk/ticket/390/attachment/password')    # 3ykv0Tny#8 \n",
    "while (True):\n",
    "    storage = c.get(\"/bin/long-term-storage/1024\")\n",
    "    if storage['status'] == 'READY':\n",
    "        break\n",
    "m = c.get(storage['url'])\n",
    "m_encrypted = encrypt(m, password)\n",
    "print(c.post('/bin/sendmail', to='mary22',subject='', content=m_encrypted))\n",
    "print(c.post('/bin/crypto_helpdesk/ticket/390/close'))      #ui\n",
    "'''\n",
    "\n",
    "# ------- dechiffrer -----------\n",
    "'''\n",
    "print(c.get('/bin/crypto_helpdesk/ticket/391'))\n",
    "password = c.get('/bin/crypto_helpdesk/ticket/391/attachment/password') \n",
    "ciphertext = c.get('/bin/crypto_helpdesk/ticket/391/attachment/ciphertext') \n",
    "cipher = c.get('/bin/crypto_helpdesk/ticket/391/attachment/cipher') \n",
    "m_decrypted = decrypt(ciphertext, password, cipher)\n",
    "print(c.post('/bin/sendmail', to='richardsonjames',subject='', content=m_decrypted))\n",
    "\n",
    "print(c.post('/bin/crypto_helpdesk/ticket/391/close'))      #ui\n",
    "'''\n",
    "print()"
   ]
  },
  {
   "cell_type": "code",
   "execution_count": 31,
   "metadata": {},
   "outputs": [
    {
     "name": "stdout",
     "output_type": "stream",
     "text": [
      "CHAP login successful. Access to /home/theresagomez granted.\n",
      "[ You have new mail ]\n",
      "\n"
     ]
    }
   ],
   "source": [
    "# ========================================================\n",
    "# ====================== CHAP login ======================\n",
    "# ========================================================\n",
    "\n",
    "plaintext = \"theresagomez-\"+c.get('/bin/login/CHAP')['challenge']\n",
    "print(c.post('/bin/login/CHAP', user=\"theresagomez\", response=encrypt(plaintext, \"+JskVIss03\",'AES-128-CBC')))\n",
    "\n",
    "# ======== chiffrer avec public_key ==========\n",
    "'''\n",
    "print(c.get(\"/bin/crypto_helpdesk/ticket/441\"))\n",
    "message = c.get('/bin/crypto_helpdesk/ticket/441/attachment/message')\n",
    "public_key =  c.get('/bin/crypto_helpdesk/ticket/441/attachment/public-key')\n",
    "\n",
    "text_file = open(\"key.pem\", \"w\")\n",
    "n = text_file.write(public_key)\n",
    "text_file.close()\n",
    "\n",
    "m_encrypted = encrypt_public_key(message, \"key.pem\")\n",
    "print(c.post('/bin/sendmail', to='cgolden',subject='', content=m_encrypted))\n",
    "print(c.post('/bin/crypto_helpdesk/ticket/441/close'))      #ui\n",
    "'''\n",
    "\n",
    "\n",
    "#   ==== genere clefs et publie clef public ====\n",
    "#my_public_key,my_private_key =gen_keys('my_public_key.pem', 'my_private_key.pem')  \n",
    "#print(c.post('/bin/key-management/upload-pk', public_key=my_public_key,confirm=True )) \n",
    "#   ==== fin ===================================\n",
    "\n",
    "\"\"\"\n",
    "# ------ chiffrer avec public_key ----------\n",
    "print(c.get(\"/bin/crypto_helpdesk/ticket/442\"))\n",
    "message = \"informations très très très sensibles\"\n",
    "addrese = c.get('/bin/crypto_helpdesk/ticket/442/attachment/contact')\n",
    "\n",
    "\n",
    "# extraire public key de katrina via key-management\n",
    "public_key =  c.get('/bin/key-management/'+addrese+'/pk')\n",
    "# fichier pkey_katrinahodges.pem\n",
    "gen_fichier_pem('pkey_katrinahodges.pem', public_key)\n",
    "\n",
    "\n",
    "# envoi du message codé par la clef public de katrina\n",
    "m_encrypted = encrypt_public_key(message, \"pkey_katrinahodges.pem\")   \n",
    "#c.post('/bin/sendmail', to=addrese, subject='442', content=m_encrypted)\n",
    "\n",
    "#print(c.get(\"/home/theresagomez/INBOX/6269\"))\n",
    "\n",
    "# decrypter le code recu\n",
    "msg_encoded = c.get(\"/home/theresagomez/INBOX/6269/body\")\n",
    "msg_decrypted = decrypt_public_key(msg_encoded, 'my_private_key.pem')\n",
    "\n",
    "\n",
    "# envoyer a \n",
    "c.post('/bin/sendmail', to='michaelmurphy', subject='442', content=msg_decrypted)\n",
    "print(c.get(\"/home/theresagomez/INBOX/6274\"))\n",
    "print(c.post('/bin/crypto_helpdesk/ticket/442/close'))      #ui\n",
    "\"\"\"\n",
    "\n",
    "\"\"\"\n",
    "# generer chaine (chiffre et lettre) alea de 16 car\n",
    "# chiffrer le tetxe avce aes\n",
    "# chiffrer la chaine alea avec clef public de dest\n",
    "# envoyer\n",
    "# -------- chiffrement hybride -----------\n",
    "print(c.get(\"/bin/crypto_helpdesk/ticket/443\"))\n",
    "\n",
    "contact = c.get('/bin/crypto_helpdesk/ticket/443/attachment/contact')\n",
    "reciprocity = c.get('/bin/crypto_helpdesk/ticket/443/attachment/reciprocity')\n",
    "\n",
    "\n",
    "liste_char=string.ascii_letters+string.digits\n",
    "session_key = \"\"\n",
    "for i in range(17):\n",
    "    session_key+=liste_char[random.randint(0,len(liste_char)-1)]\n",
    "\n",
    "\n",
    "# clef pubblic de dest\n",
    "dest_pub =  c.get('/bin/key-management/'+contact+'/pk')\n",
    "gen_fichier_pem('dest_pub.pem', dest_pub)\n",
    "\n",
    "\n",
    "# encrypt texte and session key\n",
    "msg_encrypted_aes = encrypt(reciprocity, session_key)\n",
    "session_key_encrypted = encrypt_public_key(session_key ,'dest_pub.pem')\n",
    "\n",
    "\n",
    "dico = {}\n",
    "dico[\"payload\"] = msg_encrypted_aes\n",
    "dico[\"session_key\"] = session_key_encrypted\n",
    "\n",
    "\n",
    "print(c.post('/bin/sendmail', to=contact ,subject='', content=dico))\n",
    "\n",
    "print(c.get(\"/home/theresagomez/INBOX/6548\"))\n",
    "print(c.post('/bin/crypto_helpdesk/ticket/443/close'))      #ui\n",
    "\n",
    "\"\"\"\n",
    "print()"
   ]
  },
  {
   "cell_type": "code",
   "execution_count": 32,
   "metadata": {},
   "outputs": [
    {
     "name": "stdout",
     "output_type": "stream",
     "text": [
      "\n"
     ]
    }
   ],
   "source": [
    "# ========================================================\n",
    "# ====================== CLEA  ===========================\n",
    "# ========================================================\n",
    "\n",
    "# ------ signer le contrat ----\n",
    "'''\n",
    "contrat = c.get('/home/theresagomez/INBOX/6551/body')\n",
    "\n",
    "#   ---- genere clefs et publie clef public --\n",
    "#my_public_key,my_private_key =gen_keys('my_public_key.pem', 'my_private_key.pem')  \n",
    "#print(c.post('/bin/key-management/upload-pk', public_key=my_public_key,confirm=True )) \n",
    "#   ---- fin ---------------------------------\n",
    "\n",
    "#print(c.post('/bin/key-management/upload-signature', signature=signa, signer= 'theresagomez')) \n",
    "contrat = c.get(\"/home/theresagomez/INBOX/6551/body\")\n",
    "signer = prod_signature('my_private_key.pem', 'signature.bin', contrat)\n",
    "signer = base64.b64encode(signer)\n",
    "print(signer.decode())\n",
    "#print(c.post('/bin/sendmail', to=\"josebaker\" ,subject='', content=signer.decode()))\n",
    "#print(c.get('/home/theresagomez/INBOX/10088'))\n",
    "'''\n",
    "print()\n"
   ]
  },
  {
   "cell_type": "code",
   "execution_count": 33,
   "metadata": {
    "scrolled": true
   },
   "outputs": [
    {
     "name": "stdout",
     "output_type": "stream",
     "text": [
      "\n"
     ]
    }
   ],
   "source": [
    "# ========================================================\n",
    "# ====================== police_hq =======================\n",
    "# ========================================================\n",
    "\n",
    "\"\"\" \n",
    "#print(c.get(\"/bin/police_hq/ticket/447\"))     # compte \n",
    "\n",
    "dico= c.get('/share/words').split('\\n')\n",
    "username = c.get(\"/bin/police_hq/ticket/447/attachment/username\")\n",
    "#trace = c.get(\"/bin/police_hq/ticket/447/attachment/trace\")\n",
    "challenge = \"670f4d18f82b4945911cdec886582a92\"\n",
    "response = \"U2FsdGVkX1/gb8prkqadR1UHmkFVUO72jHY5mFqmcWpPh7wD9/PoJVxyMNIeLNcM\\n+8O1GW1O+HsRHPJDM9m7Eg==\\n\"\n",
    "\n",
    "plaintext = username\n",
    "print(plaintext)\n",
    "res = \"\"\n",
    "i= 0\n",
    "\n",
    "for i in range(len(dico)):\n",
    "    try:\n",
    "        res = decrypt(response, dico[i])\n",
    "        if (res == ''):\n",
    "            continue\n",
    "        if (plaintext in res ):\n",
    "            print(res)\n",
    "            print(dico[i],i)\n",
    "            break\n",
    "        print(res)\n",
    "    except:\n",
    "        continue\n",
    "\n",
    "#resultat = \"modulation 26679\"\n",
    "#dest = c.get('/bin/police_hq/ticket/447/attachment/client')['email']\n",
    "#print(c.post('/bin/sendmail', to=dest ,subject='', content=\"modulation\"))\n",
    "\n",
    "\"\"\"\n",
    "print()"
   ]
  },
  {
   "cell_type": "code",
   "execution_count": 19,
   "metadata": {},
   "outputs": [
    {
     "name": "stdout",
     "output_type": "stream",
     "text": [
      "\n"
     ]
    }
   ],
   "source": [
    "\"\"\"\n",
    "def byte_xor(ba1, ba2):\n",
    "    return bytes([_a ^ _b for _a, _b in zip(ba1, ba2)])\n",
    "\n",
    "\n",
    "\n",
    "#print(c.get(\"/bin/police_hq/ticket/444\"))     # 2X.PAD\n",
    "#print(c.get(\"/bin/police_hq/ticket/444/attachment/indication-2\"))\n",
    "\n",
    "A = c.get(\"/bin/police_hq/ticket/444/attachment/exhibit-A\" )\n",
    "B = c.get(\"/bin/police_hq/ticket/444/attachment/exhibit-B\" )\n",
    "i = c.get(\"/bin/police_hq/ticket/444/attachment/i\")\n",
    "j = c.get(\"/bin/police_hq/ticket/444/attachment/j\")\n",
    "sample = c.get(\"/bin/police_hq/ticket/444/attachment/sample\")\n",
    "\n",
    "dest = c.get('/bin/police_hq/ticket/444/attachment/client')['email']\n",
    "\n",
    "\n",
    "A = base64.b64decode(A)\n",
    "B = base64.b64decode(B)\n",
    "\n",
    "AB = (byte_xor(A,B))\n",
    "\n",
    "\n",
    "zero = ord('0')\n",
    "one = ord('1')\n",
    "res0 = \"\"\n",
    "res1 = \"\"\n",
    "for i in range(len(AB)):\n",
    "    res0 += (chr(AB[i]^zero))\n",
    "    res1 += (chr(AB[i]^one))\n",
    "# xor avec 0 en ascci et 1 en ascii\n",
    "print(''.join(res0))\n",
    "print()\n",
    "print(''.join(res1))\n",
    "\n",
    "#print(c.post('/bin/sendmail', to=dest ,subject='', content=\"soliloques\"))\n",
    "\n",
    "#Barde que ut!ld!qmair!untknurs tu solhmnptdr\n",
    "#C`sed!ptd!tu me pl`hs toujotsr!ut!rnmiloques\n",
    "\n",
    "#print(c.post('/bin/police_hq/ticket/444/close'))\n",
    "\"\"\"\n",
    "print()"
   ]
  },
  {
   "cell_type": "code",
   "execution_count": 390,
   "metadata": {},
   "outputs": [],
   "source": [
    "#print(c.get(\"/bin/police_hq/ticket/445\"))  #CREDIT.FRAUD\n",
    "#print(c.post('/bin/police_hq/ticket/445/close'))"
   ]
  },
  {
   "cell_type": "code",
   "execution_count": null,
   "metadata": {},
   "outputs": [],
   "source": []
  },
  {
   "cell_type": "code",
   "execution_count": null,
   "metadata": {},
   "outputs": [],
   "source": []
  },
  {
   "cell_type": "code",
   "execution_count": null,
   "metadata": {},
   "outputs": [],
   "source": []
  },
  {
   "cell_type": "code",
   "execution_count": null,
   "metadata": {},
   "outputs": [],
   "source": []
  },
  {
   "cell_type": "code",
   "execution_count": null,
   "metadata": {},
   "outputs": [],
   "source": []
  },
  {
   "cell_type": "code",
   "execution_count": null,
   "metadata": {},
   "outputs": [],
   "source": []
  },
  {
   "cell_type": "code",
   "execution_count": null,
   "metadata": {},
   "outputs": [],
   "source": []
  },
  {
   "cell_type": "code",
   "execution_count": null,
   "metadata": {},
   "outputs": [],
   "source": []
  },
  {
   "cell_type": "code",
   "execution_count": 394,
   "metadata": {},
   "outputs": [
    {
     "name": "stdout",
     "output_type": "stream",
     "text": [
      "Certains d'entre vous sont peut-être déjà au courant, mais plusieurs enquêtes\n",
      "récentes nous ont amené à supposer, puis à découvrir l'existence d'une \"machine\n",
      "virtuelle\" pirate, s'exécutant au sein d'UGLIX.\n",
      "\n",
      "Le dispositif est d'un niveau de sophistication élevé. Il se présente comme un\n",
      "nouvel OS, qui fonctionne à l'intérieur de la plate-forme de virtualisation u/VM\n",
      "incorporée à UGLIX. Cet OS contient apparemment des contre-mesures qui ont rendu\n",
      "sa détection difficile.\n",
      "\n",
      "Un de nos agents à finalement réussi à le découvrir. Tout le monde peut désormais\n",
      "y accéder (via Kerberos) à l'adresse :\n",
      "\n",
      "    /bin/uVM/6fdcd67f\n",
      "\n",
      "Nous ne savons pas ce qui se trouve sur cette machine virtuelle, ni qui l'a\n",
      "conçu, ni pourquoi. Mais nous savons que ceci n'aurait pas pu être accompli sans\n",
      "une importante expertise technique, et probablement pas non plus sans certaines\n",
      "complicités.\n",
      "\n",
      "Votre mission consiste à essayer d'explorer la machine virtuelle. Quand nous\n",
      "saurons ce qu'elle contient, nous aviserons et déciderons d'une marche à suivre.\n",
      "\n",
      "Soyez prudents.\n",
      "---\n",
      "[---REDACTED---], CLEA director,\n",
      "\"Don't break the (cyber-)law\"\n",
      "\n",
      "[ You have new mail ]\n"
     ]
    }
   ],
   "source": [
    "print(c.get(\"/bin/police_hq/ticket/2579\"))"
   ]
  },
  {
   "cell_type": "code",
   "execution_count": 395,
   "metadata": {},
   "outputs": [
    {
     "name": "stdout",
     "output_type": "stream",
     "text": [
      "\n",
      "hh    hh        444              kk                   /   \n",
      "hh    hh       44                kk                  /    00000       55555555\n",
      "hh    hh      44                 kk       kk        /    00   00     55\n",
      "hh    hh     44         cccccc   kk     kk         /    00     00   55\n",
      "hhhhhhhh    44         cc        kk   kk          /    00       00  555555\n",
      "hh    hh   44    44    cc        kk kk           /     00       00        55\n",
      "hh    hh  44444444444  cc        kkk  kk        /      00      00         55\n",
      "hh    hh         44    cc        kk     kk     /        00    00        555\n",
      "hh    hh        444     cccccc   kk       kk  /          00000     555555\n",
      "\n",
      "                         [running as u/VM guest]\n",
      "\n",
      "\n",
      "LOGON  : theresagomez\n",
      "\n",
      "Available services :\n",
      "    /READ.ME\n",
      "    /LEGAL\n",
      "\n",
      "    /monitor-settings\n",
      "    /firmware\n",
      "    /ex-programmer\n",
      "    /backup-tape\n",
      "    /failsafe\n"
     ]
    }
   ],
   "source": [
    "# A FAIRE uVM\n",
    "\n",
    "\n",
    "num = '6fdcd67f'\n",
    "Client_session_key= kerberos(num)\n",
    "print(passerelle_get(Client_session_key, '/',kerberos=True,num=num))\n"
   ]
  },
  {
   "cell_type": "code",
   "execution_count": 418,
   "metadata": {},
   "outputs": [
    {
     "name": "stdout",
     "output_type": "stream",
     "text": [
      "Nous nous demandions tous ici depuis longtemps à quoi sert le programme (non\n",
      "documenté...) /sbin/failsafe.\n",
      "\n",
      "Une percée a récemment eu lieu sur ce terrain. Nous venons en effet de réussir à\n",
      "acquérir le mot de passe du compte système /home/failsafe. Il s'agit de :\n",
      "\n",
      "    I_hope_you_never_logon_to_this\n",
      "\n",
      "Ceci dit, nous ne sommes apparemment pas au bout de nos peines... Mais mieux \n",
      "vaut aller se rendre compte soi-même sur place.\n",
      "\n",
      "\n",
      "Nous avons pu glaner ici et là des informations supplémentaires. Elles sont\n",
      "accessibles ici :\n",
      "    \n",
      "    /knowledge-center/failsafe/<i>    avec    i = 0,1,2,3,4,5.\n"
     ]
    }
   ],
   "source": [
    "print(passerelle_get(Client_session_key, '/failsafe',kerberos=True,num=num))"
   ]
  },
  {
   "cell_type": "code",
   "execution_count": null,
   "metadata": {},
   "outputs": [],
   "source": []
  },
  {
   "cell_type": "code",
   "execution_count": null,
   "metadata": {},
   "outputs": [],
   "source": [
    "# ============ /failsafe  -> TWISTED ===============\n",
    "\n",
    "\n",
    "# /sbin/failsafe\n",
    "# générer les <access tokens>\n",
    "# A FAIRE\n",
    "from hmac import HMAC\n",
    "FAILSAFE_MAC_KEY = b'7w1573d'\n",
    "\n",
    "def access_token(username):\n",
    "    return HMAC(FAILSAFE_MAC_KEY, username.encode()).hexdigest()[:10]"
   ]
  },
  {
   "cell_type": "code",
   "execution_count": null,
   "metadata": {},
   "outputs": [],
   "source": []
  },
  {
   "cell_type": "code",
   "execution_count": null,
   "metadata": {},
   "outputs": [],
   "source": []
  },
  {
   "cell_type": "code",
   "execution_count": null,
   "metadata": {},
   "outputs": [],
   "source": []
  },
  {
   "cell_type": "code",
   "execution_count": null,
   "metadata": {},
   "outputs": [],
   "source": []
  },
  {
   "cell_type": "code",
   "execution_count": 211,
   "metadata": {},
   "outputs": [],
   "source": [
    "# ========================\n",
    "plaintext = \"cassandra09-\"+c.get('/bin/login/CHAP')['challenge']\n",
    "#print(c.post('/bin/login/CHAP', user=\"cassandra09\", response=encrypt(plaintext, \"modulation\",'AES-128-CBC')))#\n",
    "#print(c.get(\"/home/cassandra09/TODO\").decode())\n",
    "# ========================\n",
    "\n",
    "#fichier = (c.get(\"/home/cassandra09/research.jpg\"))\n",
    "#gen_fichier_pem('research.jpg', fichier, mode = 'wb')\n",
    "\n",
    "\n"
   ]
  },
  {
   "cell_type": "code",
   "execution_count": 212,
   "metadata": {},
   "outputs": [],
   "source": [
    "# A FAIRE le truc de fsck\n",
    "\n",
    "# en STP\n",
    "#print(c.get(\"/bin/police_hq/ticket/1411\"))\n",
    "\n",
    "\n",
    "#print(c.get(\"/bin/fsck\"))"
   ]
  },
  {
   "cell_type": "code",
   "execution_count": null,
   "metadata": {},
   "outputs": [],
   "source": []
  },
  {
   "cell_type": "code",
   "execution_count": null,
   "metadata": {},
   "outputs": [],
   "source": []
  },
  {
   "cell_type": "code",
   "execution_count": 213,
   "metadata": {},
   "outputs": [
    {
     "name": "stdout",
     "output_type": "stream",
     "text": [
      "\n"
     ]
    }
   ],
   "source": [
    "# ========================================\n",
    "# ========== anonymous.coward ============\n",
    "# ========================================\n",
    "\n",
    "\n",
    "# WEB.OF.TRUST\n",
    "#print(c.post('/bin/sendmail', to='anonymous.coward' ,subject='', content=\"=\"))\n",
    "'''\n",
    "res = (c.get(\"/home/theresagomez/INBOX/13711/body\"))\n",
    "session_key = \"K6sV9+Y3NgctuBcYUq8SfTSI5Xlxp2jeZas1evy5cxdpHELGXERhuABI8R7CZzWvN2jWXyFT5Jmelc6zWYeXdelnks2dWQSyoZWsb5eRsaZqqR6aYGkqjcs5TJKihsqRIvYKdi6HgHMdh66XK8fzpBtUXUssseAuaNTYvLja9W4ibuUnIZfkvrPea2cfoCVPh4DeiPuQoTvsWhP0EcHoBVDtzQUpj2TTDEp6TSSDqabVM6TZOeRDvqnSKaLqIwOKoRL7A3z9m7O9EbP230Raw2AdmXOetgKDyHow1wlTQor52UgNokv6nJ+W6RbNJq5TVzvHI6+jGzxW4SkOo6uifQ==\"\n",
    "payload = \"U2FsdGVkX1/U8YlTptthYvrbKFRL+uVrAjpiDK33HNRutf9aotm5oJEmGrX3TUoi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\\n\"\n",
    "\n",
    "#key = decrypt_public_key(session_key, 'my_private_key.pem')\n",
    "\n",
    "# cest quoi p ??\n",
    "#p  = b'+\\xab\\x15\\xf7\\xe676\\x07-\\xb8\\x17\\x18R\\xaf\\x12}4\\x88\\xe5yq\\xa7h\\xdee\\xab5z\\xfc\\xb9s\\x17i\\x1cB\\xc6\\\\Da\\xb8\\x00H\\xf1\\x1e\\xc2g5\\xaf7h\\xd6_!S\\xe4\\x99\\x9e\\x95\\xce\\xb3Y\\x87\\x97u\\xe9g\\x92\\xcd\\x9dY\\x04\\xb2\\xa1\\x95\\xaco\\x97\\x91\\xb1\\xa6j\\xa9\\x1e\\x9a`i*\\x8d\\xcb9L\\x92\\xa2\\x86\\xca\\x91\"\\xf6\\nv.\\x87\\x80s\\x1d\\x87\\xae\\x97+\\xc7\\xf3\\xa4\\x1bT]K,\\xb1\\xe0.h\\xd4\\xd8\\xbc\\xb8\\xda\\xf5n\"n\\xe5\\'!\\x97\\xe4\\xbe\\xb3\\xdekg\\x1f\\xa0%O\\x87\\x80\\xde\\x88\\xfb\\x90\\xa1;\\xecZ\\x13\\xf4\\x11\\xc1\\xe8\\x05P\\xed\\xcd\\x05)\\x8fd\\xd3\\x0cJzM$\\x83\\xa9\\xa6\\xd53\\xa4\\xd99\\xe4C\\xbe\\xa9\\xd2)\\xa2\\xea#\\x03\\x8a\\xa1\\x12\\xfb\\x03|\\xfd\\x9b\\xb3\\xbd\\x11\\xb3\\xf6\\xdfDZ\\xc3`\\x1d\\x99s\\x9e\\xb6\\x02\\x83\\xc8z0\\xd7\\tSB\\x8a\\xf9\\xd9H\\r\\xa2K\\xfa\\x9c\\x9f\\x96\\xe9\\x16\\xcd&\\xaeSW;\\xc7#\\xaf\\xa3\\x1b<V\\xe1)\\x0e\\xa3\\xab\\xa2}'\n",
    "\n",
    "b= 'aa758b2be233a14c53319f9e6a024529'\n",
    "msg = decrypt(payload, b)\n",
    "print(msg)\n",
    "\n",
    "print()\n",
    "'''\n",
    "print()"
   ]
  },
  {
   "cell_type": "code",
   "execution_count": 214,
   "metadata": {},
   "outputs": [],
   "source": [
    "num = 4\n",
    "#Client_session_key= kerberos(num)\n",
    "#print(passerelle_get(Client_session_key, '/',kerberos=True,num=num))\n",
    "\n",
    "# A FAIRE trouver le numero de anonymous "
   ]
  },
  {
   "cell_type": "code",
   "execution_count": null,
   "metadata": {},
   "outputs": [],
   "source": []
  },
  {
   "cell_type": "code",
   "execution_count": null,
   "metadata": {},
   "outputs": [],
   "source": []
  },
  {
   "cell_type": "code",
   "execution_count": 215,
   "metadata": {},
   "outputs": [
    {
     "name": "stdout",
     "output_type": "stream",
     "text": [
      "\n"
     ]
    }
   ],
   "source": [
    "# ========================================\n",
    "# ================ STP ===================\n",
    "# ========================================\n",
    "\n",
    "#conn = stp()\n",
    "#print(conn)\n",
    "\n",
    "\n",
    "\"\"\"\n",
    "#print(passerelle_get(session_key, \"/bin/police_hq/ticket/446\"))     #DIE.HARD(WARE)\n",
    "print(passerelle_get(session_key, '/service/hardware/status'))   \n",
    "\n",
    "print(passerelle_get(session_key, '/service/hardware/action'))\n",
    "print(passerelle_post(session_key, '/service/hardware/action/LIGHT',{'action': 'emergency'}))\n",
    "print(passerelle_post(session_key, \"/service/hardware/911\",{'reason': 'FIRE'}))\n",
    "\n",
    "#print(c.post('/bin/police_hq/ticket/446/close'))\n",
    "\"\"\"\n",
    "print()"
   ]
  },
  {
   "cell_type": "code",
   "execution_count": 216,
   "metadata": {},
   "outputs": [],
   "source": [
    "# pas de point pou ca ? lol\n",
    "#print(passerelle_post(session_key, '/service/hardware/catapult',{'uri':'/sys/core'}))\n",
    "#print(passerelle_get(session_key, '/sys/core'))\n"
   ]
  },
  {
   "cell_type": "code",
   "execution_count": 217,
   "metadata": {},
   "outputs": [],
   "source": [
    "# =================================================\n",
    "# ================ hackademy ======================\n",
    "# ================================================="
   ]
  },
  {
   "cell_type": "code",
   "execution_count": 218,
   "metadata": {},
   "outputs": [
    {
     "name": "stdout",
     "output_type": "stream",
     "text": [
      "\n"
     ]
    }
   ],
   "source": [
    "# ============== 448 #linear equation =================\n",
    "\"\"\"\n",
    "print(c.get(\"/bin/hackademy/ticket/448\"))    \n",
    "a = int(c.get(\"/bin/hackademy/ticket/448/attachment/a\"))\n",
    "b = int(c.get(\"/bin/hackademy/ticket/448/attachment/b\"))\n",
    "n = int(c.get(\"/bin/hackademy/ticket/448/attachment/n\"))\n",
    "\n",
    "res = -b+n\n",
    "a_inv = modinv(a,n)\n",
    "res = res*a_inv\n",
    "print(c.post(\"/bin/hackademy/exam/arith/eq-lin-mod-p\", X =res))\n",
    "print(c.post('/bin/hackademy/ticket/448/close'))  \n",
    "\"\"\"\n",
    "\n",
    "# ============== 449 #PRIME OU PAS ===================\n",
    "\"\"\"\n",
    "print(c.get(\"/bin/hackademy/ticket/449\"))    \n",
    "n = int(c.get(\"/bin/hackademy/ticket/449/attachment/n\"))\n",
    "print(c.post(\"/bin/hackademy/exam/prime/fermat-disproof\", a=0)) # l o l\n",
    "print(c.post('/bin/hackademy/ticket/449/close'))  \n",
    "\"\"\"\n",
    "\n",
    "# ============== 450 #PRIME.RANGE ===================\n",
    "\"\"\"\n",
    "print(c.get(\"/bin/hackademy/ticket/450\"))   \n",
    "a = int(c.get(\"/bin/hackademy/ticket/450/attachment/a\"))\n",
    "b = int(c.get(\"/bin/hackademy/ticket/450/attachment/b\"))\n",
    "#print(c.get(\"/bin/hackademy/ticket/450/attachment/indication-0\"))\n",
    "i = a #a est impair\n",
    "while True:\n",
    "    if (millerRabin(i)==True):\n",
    "        res = i\n",
    "        break\n",
    "    i += 2\n",
    "    \n",
    "print(res)\n",
    "print(c.post(\"/bin/hackademy/exam/prime/range\", p=res)) \n",
    "print(c.post('/bin/hackademy/ticket/450/close'))  \n",
    "\"\"\"\n",
    "\n",
    "# ========= 451 #PRIME.PRODUCT===========\n",
    "#print(c.post('/bin/hackademy/ticket/451/close'))\n",
    "\n",
    "# ============== 454 #given order===================\n",
    "\n",
    "\"\"\"\n",
    "a = int(c.get('/bin/hackademy/ticket/454/attachment/a'))\n",
    "b = int(c.get('/bin/hackademy/ticket/454/attachment/b'))\n",
    "q = int(c.get('/bin/hackademy/ticket/454/attachment/q'))\n",
    "while True:\n",
    "    x = random.randint(a//q,b//q)\n",
    "    p = x*q + 1\n",
    "    if millerRabin(p,10):\n",
    "        break\n",
    "g = 1\n",
    "while g == 1:\n",
    "    x = random.randint(2,2**64)\n",
    "    g = pow(x,((p-1) // q),p)\n",
    "\"\"\"\n",
    "\n",
    "\n",
    "# ============== 456 #ELGAMAL.CCA ===================\n",
    "\"\"\"\n",
    "print(c.get(\"/bin/hackademy/ticket/456\"))       \n",
    "p = c.get(\"/bin/hackademy/ticket/456/attachment/p\")\n",
    "g = c.get(\"/bin/hackademy/ticket/456/attachment/g\")\n",
    "ciphertext = c.get(\"/bin/hackademy/exam/elgamal/malleability\")[\"ciphertext\"]\n",
    "pk = c.get(\"/bin/hackademy/exam/elgamal/malleability\")[\"PK\"]\n",
    "\n",
    "reponse = c.post(\"/bin/hackademy/exam/elgamal/malleability\", a=ciphertext[0], b= 2*ciphertext[1])['m']\n",
    "\n",
    "res = reponse //2\n",
    "\n",
    "i = res\n",
    "h = \"{0:016x}\".format(i)\n",
    "res = base64.b16decode(h, casefold=True)\n",
    "print(res)\n",
    "print(c.post('/bin/hackademy/ticket/456/close')) \n",
    "\"\"\"\n",
    "\n",
    "# ============== 457 #ELGAMAL.DECRYPT ===================\n",
    "''' \n",
    "print(c.get(\"/bin/hackademy/ticket/457\"))    \n",
    "p = int(c.get(\"/bin/hackademy/ticket/457/attachment/p\"))\n",
    "g = int(c.get(\"/bin/hackademy/ticket/457/attachment/g\"))\n",
    "\n",
    "h = g # x=1\n",
    "\n",
    "ciphertext =  c.post(\"/bin/hackademy/exam/elgamal/decryption\", h= h)['ciphertext']\n",
    "\n",
    "k = ciphertext[0]**1\n",
    "M = ciphertext[1] * modinv(k,p)\n",
    "M = M%p\n",
    "\n",
    "\n",
    "i = M\n",
    "h = \"{0:016x}\".format(i)\n",
    "res = base64.b16decode(h, casefold=True)\n",
    "print(res)\n",
    "print(c.post('/bin/hackademy/ticket/457/close')) \n",
    "'''\n",
    "\n",
    "# ============== 458 #CHINESE.REM ===================\n",
    "\"\"\"\n",
    "print(c.get(\"/bin/hackademy/ticket/458\"))    \n",
    "#print(c.get(\"/bin/hackademy/ticket/458/attachment/indication-1\"))\n",
    "n = c.get(\"/bin/hackademy/ticket/458/attachment/n\")\n",
    "x = c.get(\"/bin/hackademy/ticket/458/attachment/x\")\n",
    "tab = []\n",
    "for i in range(len(n)):\n",
    "    tab.append([x[i],n[i]])\n",
    "X = rchinois(tab)[0]\n",
    "print(c.post(\"/bin/hackademy/exam/arith/CRT\", X=X))\n",
    "print(c.post('/bin/hackademy/ticket/458/close')) \n",
    "\"\"\"\n",
    "\n",
    "# ============== 459 #RSA.KEYGEN ================== \n",
    "\"\"\"\n",
    "print(c.get(\"/bin/hackademy/ticket/459\"))  \n",
    "e = int(c.get(\"/bin/hackademy/ticket/459/attachment/e\"))\n",
    "\n",
    "\n",
    "p =premier_nb_alea((10**408)+1)\n",
    "q= premier_nb_alea(p+2)\n",
    "\n",
    "n =p*q\n",
    "ciphertext = c.post(\"/bin/hackademy/exam/rsa/keygen\", n=n)['ciphertext']\n",
    "\n",
    "d = modinv(e,(p-1)*(q-1))\n",
    "m = lpowmod(ciphertext, d, n)\n",
    "print(m)\n",
    "i = m\n",
    "h = \"{0:016x}\".format(i)\n",
    "res = base64.b16decode(h, casefold=True)\n",
    "print(res)\n",
    "#print(c.post('/bin/hackademy/ticket/459/close')) \n",
    "\"\"\"\n",
    "\n",
    "print()"
   ]
  },
  {
   "cell_type": "code",
   "execution_count": 219,
   "metadata": {},
   "outputs": [
    {
     "name": "stdout",
     "output_type": "stream",
     "text": [
      "\n"
     ]
    }
   ],
   "source": [
    "# ============== 460 #RSA.REDUCTION================== \n",
    "\"\"\"\n",
    "print(c.get(\"/bin/hackademy/ticket/460\"))  \n",
    "\n",
    "n = int(c.get(\"/bin/hackademy/ticket/460/attachment/n\"))\n",
    "e = int(c.get(\"/bin/hackademy/ticket/460/attachment/e\"))\n",
    "d = int(c.get(\"/bin/hackademy/ticket/460/attachment/d\"))\n",
    "\n",
    "#print(c.get(\"/bin/hackademy/ticket/460/attachment/indication-1\"))\n",
    "\n",
    "k = (e*d -1) //2\n",
    "cpt = 0\n",
    "while(True):\n",
    "    x = random.randint(1, n)\n",
    "    y = lpowmod(x,k,n)\n",
    "    if (cpt>50):\n",
    "        k = k // 2\n",
    "    if y == 1 or y== -1:\n",
    "        cpt += 1\n",
    "        continue\n",
    "    else:\n",
    "        res = pgcd(y-1,n)\n",
    "        break\n",
    "print (res)\n",
    "\n",
    "i = res\n",
    "h = \"{0:016x}\".format(i)\n",
    "base64.b16decode(h, casefold=True)\n",
    "\"\"\"\n",
    "\n",
    "\n",
    "# ============== 461 #RSA.MSB ==================\n",
    "\"\"\"\n",
    "#print(c.get(\"/bin/hackademy/ticket/461\"))    \n",
    "n = int(c.get(\"/bin/hackademy/ticket/461/attachment/n\"))\n",
    "e = int(c.get(\"/bin/hackademy/ticket/461/attachment/e\"))\n",
    "ciphertext = c.get(\"/bin/hackademy/exam/rsa/most-significant-bit\")['ciphertext']\n",
    "\n",
    "#print(c.get(\"/bin/hackademy/ticket/461/attachment/indication-2\"))\n",
    "\n",
    "def RSA_461():\n",
    "    a = 0\n",
    "    b = n\n",
    "    i = 0\n",
    "    while(True):\n",
    "        if (a == b):\n",
    "            while (True):\n",
    "                if (lpowmod(a, e, n) == ciphertext):\n",
    "                    return a\n",
    "                else : \n",
    "                    a = a+1\n",
    "                    continue\n",
    "        cp = (lpowmod(2**i, e, n)*ciphertext) %n\n",
    "        oracle = c.post(\"/bin/hackademy/exam/rsa/most-significant-bit\", c= cp) \n",
    "        if oracle['MSB'] == False:\n",
    "            b = (a+b) //2\n",
    "        else:\n",
    "            a = (a+b) // 2\n",
    "        i = i+1\n",
    "#res = RSA_461()\n",
    "res = 681631428064810815510498153103820346728886007526894360635925507141131419013566643124070605714155018967927807629740826339780257570126138270889987229523006217304018084065509911688026542831155027519925892230368123938642895177040567989770801690302930231681114886967399998099341746487468585575773015563261721229184503496102247210914578408725874025705312567034315938582444998285742309633691915558970518379664149407692689509245516930737895838367547971458563717642330144\n",
    "\n",
    "i = res\n",
    "h = \"{0:016x}\".format(i)\n",
    "base64.b16decode(h, casefold=True)\n",
    "\"\"\"\n",
    "print()\n"
   ]
  },
  {
   "cell_type": "code",
   "execution_count": null,
   "metadata": {},
   "outputs": [],
   "source": []
  },
  {
   "cell_type": "code",
   "execution_count": null,
   "metadata": {},
   "outputs": [],
   "source": []
  },
  {
   "cell_type": "code",
   "execution_count": 220,
   "metadata": {},
   "outputs": [],
   "source": [
    "#print(c.get('/bin/hackademy/ticket/455')) \n",
    "\n",
    "data = c.get('/bin/hackademy/exam/discrete-log/challenge/3')\n",
    "p = data[\"p\"]\n",
    "g = data[\"g\"]\n",
    "h = data[\"h\"]\n",
    "\n",
    "# 24993 / \n",
    "#print(c.get(\"/bin/hackademy/ticket/455/attachment/indication-1\"))\n",
    "\n",
    "#print(bsgs(g, h, p))\n",
    "\n",
    "#print(c.post('/bin/hackademy/exam/discrete-log/challenge/2',x = 24993))\n",
    "\n",
    "\n",
    "# A FAIRE ? deja rendu mais peut-etre peut remplacer "
   ]
  },
  {
   "cell_type": "code",
   "execution_count": 221,
   "metadata": {},
   "outputs": [],
   "source": [
    "\n",
    "#print(c.get('/bin/hackademy/ticket/452')) \n",
    "#print(c.get(\"/bin/hackademy/ticket/452/attachment/indication-1\"))\n",
    "\n",
    "a = int(c.get(\"/bin/hackademy/ticket/452/attachment/a\"))\n",
    "b = int(c.get(\"/bin/hackademy/ticket/452/attachment/b\"))\n",
    "\n",
    "\n",
    "size = len(bin(a)[2:])\n",
    "\n"
   ]
  },
  {
   "cell_type": "code",
   "execution_count": 222,
   "metadata": {},
   "outputs": [
    {
     "name": "stdout",
     "output_type": "stream",
     "text": [
      "Pour que g puisse être d'ordre q, il faut que p-1 soit un multiple de q. Il faut\n",
      "donc fabriquer p en vérifiant si \n",
      "\n",
      "    1 + q*(nombre aléatoire pair de la bonne taille)\n",
      "\n",
      "est bien un nombre premier.\n"
     ]
    }
   ],
   "source": [
    "#print(c.get('/bin/hackademy/ticket/454')) \n",
    "a = int(c.get(\"/bin/hackademy/ticket/454/attachment/a\"))\n",
    "b = int(c.get(\"/bin/hackademy/ticket/454/attachment/b\"))\n",
    "q = int(c.get(\"/bin/hackademy/ticket/454/attachment/q\"))\n",
    "p = generate_prime_candidate(len(bin(a)))\n",
    "print(c.get(\"/bin/hackademy/ticket/454/attachment/indication-0\"))\n"
   ]
  },
  {
   "cell_type": "code",
   "execution_count": null,
   "metadata": {},
   "outputs": [],
   "source": []
  },
  {
   "cell_type": "code",
   "execution_count": null,
   "metadata": {},
   "outputs": [],
   "source": []
  },
  {
   "cell_type": "code",
   "execution_count": 223,
   "metadata": {},
   "outputs": [
    {
     "name": "stdout",
     "output_type": "stream",
     "text": [
      "21fc4bf4bde2eb62d062e423c70cdde0d9316f6c8a2301ce4afc64a99ba05e09\n",
      "Authenticated Key-Exchange successful. Access to /bin/gateway granted.\n"
     ]
    }
   ],
   "source": [
    "# =======================================================\n",
    "# ===================== DH ==============================\n",
    "# =======================================================\n",
    "\n",
    "#   ==== genere clefs et publie clef public ====\n",
    "#my_public_key,my_private_key =gen_keys('my_public_key.pem', 'my_private_key.pem')  \n",
    "#print(c.post('/bin/key-management/upload-pk', public_key=my_public_key,confirm=True )) \n",
    "#   ==== fin ===================================\n",
    "\n",
    "\n",
    "session_key = dh()\n"
   ]
  },
  {
   "cell_type": "code",
   "execution_count": 28,
   "metadata": {},
   "outputs": [
    {
     "name": "stdout",
     "output_type": "stream",
     "text": [
      "\n"
     ]
    }
   ],
   "source": [
    "# ================ DH HACK ====================\n",
    "# A FAIRE HACK\n",
    "\n",
    "\"\"\"\n",
    "#print(passerelle_get(session_key,\"/bin/hackademy/ticket/462\"))\n",
    "#print(passerelle_get(session_key,\"/bin/hackademy/ticket/462/attachment/indication-1\"))\n",
    "\n",
    "#pkey = passerelle_get(session_key,\"/bin/key-management/music/pk\")\n",
    "#gen_fichier_pem('music_pk.pem', pkey) \n",
    "\n",
    "#print(maniere_dure('music_pk.pem').decode())\n",
    "\n",
    "n= '0x85B4A8CBD10F58C1E5E017FC6A33E2381CDF876848E14ED14491286292959886D256D00C5A640C941B54D5573ED15320779494FCAA2B55ABB3B92E9B758DA63D5723E5E668D4B4D90FBA60260F67AAEB241C3A049F991124F82BBBB751AD82C70965308D59FAD4EB4C0C9CCC6DACD4B61BC4F771E1285429E6580404DBFDEBFCE63F7B8890A32AB9D793D4D6093A0CEA826C3D00F636674DBCAC1C66DA75762500A818917F32F23801A5A3C6A87003CFDEA9C295B14A6B2570848D9EC9B68FD9054999D7467BD139BE3CD3867EFAA413A359951E0A3B9C541B2C718E0B024562C3177AF92BD669FFC632A247AD986D512AA358B3CF790D179B87E078A5C1B7'\n",
    "n = n.lower()\n",
    "n = int(n, 16)\n",
    "e= '0x010001'\n",
    "e = int(e,16)\n",
    "\n",
    "res = factorisation_bete(n)\n",
    "\n",
    "p = res[0]\n",
    "q = res[1]\n",
    "phi = (p-1)*(q-1)\n",
    "d = modinv(e,phi)\n",
    "\n",
    "#skey = c.post(\"/sbin/key-hack/rsa/sk\",p=p,q=q,e=e,d=d)\n",
    "#gen_fichier_pem('music_sk.pem', skey) \n",
    "\"\"\"\n",
    "\"\"\"\n",
    "challenge = (c.get(\"/bin/login/passwordless\"))['challenge']\n",
    "signa =base64.b64encode (prod_signature('music_sk.pem', 'signa_passwordless.txt', challenge)).decode()\n",
    "print(c.post(\"/bin/login/passwordless\",user='music', response=signa))\n",
    "\"\"\"\n",
    "print()"
   ]
  },
  {
   "cell_type": "code",
   "execution_count": 29,
   "metadata": {},
   "outputs": [
    {
     "name": "stdout",
     "output_type": "stream",
     "text": [
      "\n"
     ]
    }
   ],
   "source": [
    "\n",
    "\"\"\"\n",
    "#print(passerelle_get(session_key,\"/bin/hackademy/ticket/463\"))\n",
    "#pkey = passerelle_get(session_key,\"/bin/key-management/programmer/pk\")\n",
    "#gen_fichier_pem('programmer_pk.pem', pkey) \n",
    "\n",
    "#print(passerelle_get(session_key,\"/bin/hackademy/ticket/463/attachment/indication-2\"))\n",
    "\n",
    "\n",
    "#print(maniere_dure('programmer_pk.pem').decode())\n",
    "n = '0x01556D3373B99C32CA33C3FCE52F8C7E4DFBC2A0CCE04CC9BE12EE3E1FAD3A9976EB7752F99D2CE49E37DB4DAD713033FECF277198ECB1C33A0F2882596890DE533C60E45002526E125679B77CF066B9B8A3E052EC80DE410004ED1AD48B3ED0705CFCF07711E64A4737EA2378C8B3278F2CD7301A895A5F0465ADE94BE96DC9DE3D060B6CD45FBC627797FDE87D36900530C30A08934A89C751C94770DB7E733D7B23A937EA82534BC6E01A596902A5AF2CBA249F57766A2C385C47B03AAAE4A210CAE8DECC1D6BA52638376ED8982350960B311AF619E7F5CEF303AFE0DF23830A66C644EE2231EF6113D599FF83C4489DECD5A518150263A1969E3F6C972EBD'\n",
    "n = n.lower()\n",
    "n = int(n, 16)\n",
    "e = '0x010001'\n",
    "e = int(e,16)\n",
    "\n",
    "d = time.time()\n",
    "#res = rho2(n)\n",
    "f= time.time()\n",
    "\n",
    "print(\"temps:\",f-d)\n",
    "\n",
    "\n",
    "p = 386595100471583\n",
    "q = n//p\n",
    "phi = (p-1)*(q-1)\n",
    "d = modinv(e,phi)\n",
    "\n",
    "skey = c.post(\"/sbin/key-hack/rsa/sk\",p=p,q=q,e=e,d=d)\n",
    "gen_fichier_pem('programmer_sk.pem', skey) \n",
    "challenge = (c.get(\"/bin/login/passwordless\"))['challenge']\n",
    "signa =base64.b64encode (prod_signature('programmer_sk.pem', 'signa_passwordless.txt', challenge)).decode()\n",
    "print(c.post(\"/bin/login/passwordless\",user='programmer', response=signa))\n",
    "#print(c.get(\"/sbin/plugins-demo\"))\n",
    "\"\"\"\n",
    "print()"
   ]
  },
  {
   "cell_type": "code",
   "execution_count": null,
   "metadata": {},
   "outputs": [],
   "source": []
  },
  {
   "cell_type": "code",
   "execution_count": 242,
   "metadata": {},
   "outputs": [
    {
     "name": "stdout",
     "output_type": "stream",
     "text": [
      "Lorsque la méthode rho n'arrive plus à trouver de petits diviseurs, on peut \n",
      "tenter la méthode p-1. Celle-ci peut trouver un grand diviseur p d'un nombre N\n",
      "qu'on souhaite factoriser, à condition que p-1 soit \"friable\" (c.a.d. n'ait que\n",
      "de petits diviseurs).\n",
      "\n",
      "L'idée générale est un peu la même que dans la méthode rho : on va essayer de\n",
      "fabriquer un multiple de p, puis on calculera son PGCD avec N, et on devrait\n",
      "probablement voir apparaître p.\n",
      "\n",
      "\n",
      "On choisit (arbitrairement) une borne B. La méthode va trouver un facteur p de\n",
      "N, à condition que p-1 soit \"B-friable\". Un nombre X est B-friable s'il\n",
      "s'écrit :\n",
      "\n",
      "    X = (p_1 ** a_1) * (p_2 ** a_2) * ... * (p_k ** a_k)\n",
      "\n",
      "où les p_i sont des nombres premiers différents, et tels que :\n",
      "\n",
      "    p_i ** a_i <= B  pour tout i.\n",
      "\n",
      "\n",
      "Autrement dit, X est B-friable si pour toute puissance d'un nombre premier qui\n",
      "divise X est inférieure ou égale à B.\n",
      "\n",
      "Le plus grand nombre B-friable est :\n",
      "\n",
      "    M(B) = produit des (p_i ** a_i)      où p_i <= B est premier\n",
      "                                         et a_i est le plus grand entier\n",
      "                                                tel que pow(p_i, a_i) <= B.\n",
      "\n",
      "Le truc c'est qu'un nombre B-friable est un diviseur de M(B). Par conséquent, \n",
      "si p-1 est B-friable, alors il existe m tel que M(B) = (p-1) * m. Et donc, pour\n",
      "tout nombre a, on trouve :\n",
      "\n",
      "    a ** M(B) = a ** ((p-1) * m)\n",
      "              = (a ** (p-1)) ** m\n",
      "\n",
      "D'après le petit théorème de fermat, a ** (p-1) est congru à 1 modulo p. Par\n",
      "conséquent, (a ** M(B)) - 1 est un multiple de p. Il s'ensuit que :\n",
      "\n",
      "    PGCD((a ** M(B)) - 1, N) = p avec très forte probabilité.\n"
     ]
    }
   ],
   "source": [
    "print(passerelle_get(session_key,\"/bin/hackademy/ticket/464/attachment/indication-0\"))"
   ]
  },
  {
   "cell_type": "code",
   "execution_count": 236,
   "metadata": {},
   "outputs": [
    {
     "name": "stdout",
     "output_type": "stream",
     "text": [
      "    0:d=0  hl=4 l= 267 cons: SEQUENCE          \n",
      "    4:d=1  hl=4 l= 258 prim:  INTEGER           :1460662ACBD030E8D021A813D94FF03D7EF808C82B4DEFAA470FAC1EC24EA69110432F8AC169E661F81DB8DD60B11A2ACC72DCC2BB5426C91DEF6200FB7F7517C9C2D067382164FFA0C93DDA6E333741206598D26A2D118E5C7F9B05176553309174027147C647F80EC2914F9FB18939495CAF3B0229BAA49540A9E61A427139AB8A2590903A4B1B9028856F6DCBC6218B2E13A8C873E36A9EA39310E4F0EDA0B5E0335029C504DE3F57BA6D5B38D99487E33A2758D6AEA37B40FB2724CB7CF34D589FEA9850702923BE4CF1A526C433FD3399036993ABA00E747578F3D2C1FD94E3E29677B8EC45B2092F596C22F56E04DDE4927FA5D3729481DCD123F8601149C9\n",
      "  266:d=1  hl=2 l=   3 prim:  INTEGER           :010001\n",
      "\n"
     ]
    }
   ],
   "source": [
    "#pkey = passerelle_get(session_key,\"/bin/key-management/sysprog/pk\")\n",
    "#gen_fichier_pem('sysprog_pk.pem', pkey) \n",
    "\n",
    "#print(maniere_dure('sysprog_pk.pem').decode())\n",
    "n = \"1460662ACBD030E8D021A813D94FF03D7EF808C82B4DEFAA470FAC1EC24EA69110432F8AC169E661F81DB8DD60B11A2ACC72DCC2BB5426C91DEF6200FB7F7517C9C2D067382164FFA0C93DDA6E333741206598D26A2D118E5C7F9B05176553309174027147C647F80EC2914F9FB18939495CAF3B0229BAA49540A9E61A427139AB8A2590903A4B1B9028856F6DCBC6218B2E13A8C873E36A9EA39310E4F0EDA0B5E0335029C504DE3F57BA6D5B38D99487E33A2758D6AEA37B40FB2724CB7CF34D589FEA9850702923BE4CF1A526C433FD3399036993ABA00E747578F3D2C1FD94E3E29677B8EC45B2092F596C22F56E04DDE4927FA5D3729481DCD123F8601149C9\"\n",
    "n = n.lower()\n",
    "n = int(n, 16)\n",
    "e = '0x010001'\n",
    "e = int(e,16)"
   ]
  },
  {
   "cell_type": "code",
   "execution_count": null,
   "metadata": {},
   "outputs": [],
   "source": []
  },
  {
   "cell_type": "code",
   "execution_count": 30,
   "metadata": {},
   "outputs": [],
   "source": []
  },
  {
   "cell_type": "code",
   "execution_count": null,
   "metadata": {},
   "outputs": [],
   "source": []
  },
  {
   "cell_type": "code",
   "execution_count": null,
   "metadata": {},
   "outputs": [],
   "source": []
  },
  {
   "cell_type": "code",
   "execution_count": null,
   "metadata": {},
   "outputs": [],
   "source": []
  },
  {
   "cell_type": "code",
   "execution_count": null,
   "metadata": {},
   "outputs": [],
   "source": []
  },
  {
   "cell_type": "code",
   "execution_count": 31,
   "metadata": {},
   "outputs": [],
   "source": [
    "#print(passerelle_get(session_key,'/bin/banks/drh'))  # BANK.ACCESS\n",
    "\n",
    "# A FAIRE PIERRE FEUILLE CISEAU"
   ]
  },
  {
   "cell_type": "code",
   "execution_count": 32,
   "metadata": {},
   "outputs": [],
   "source": [
    "# ==== REGLES ====\n",
    "\n",
    "#print(passerelle_get(session_key,'/bin/banks/drh/rules'))"
   ]
  },
  {
   "cell_type": "code",
   "execution_count": 33,
   "metadata": {},
   "outputs": [
    {
     "name": "stdout",
     "output_type": "stream",
     "text": [
      "933255215125888994528819962958818703845751478621166061281573256116863730474948495112096216875895483401859347904127447828295612407922318253882894665984494375506153935964676494132036576445749182493837254386575997661939850394130013376262786085609017342679332353036313624420363361686708203674746169229864778723430017044288326182107643197232236837823659229008385462159161206000235990913578270001761604257337875471201784049073452626808543005463138179874636560050435622\n"
     ]
    },
    {
     "ename": "NameError",
     "evalue": "name 'session_key' is not defined",
     "output_type": "error",
     "traceback": [
      "\u001b[0;31m---------------------------------------------------------------------------\u001b[0m",
      "\u001b[0;31mNameError\u001b[0m                                 Traceback (most recent call last)",
      "\u001b[0;32m<ipython-input-33-67892738a722>\u001b[0m in \u001b[0;36m<module>\u001b[0;34m\u001b[0m\n\u001b[1;32m     18\u001b[0m \u001b[0mh\u001b[0m \u001b[0;34m=\u001b[0m \u001b[0mpow\u001b[0m\u001b[0;34m(\u001b[0m\u001b[0;36m2\u001b[0m\u001b[0;34m,\u001b[0m\u001b[0mx\u001b[0m\u001b[0;34m,\u001b[0m\u001b[0mp\u001b[0m\u001b[0;34m)\u001b[0m\u001b[0;34m\u001b[0m\u001b[0;34m\u001b[0m\u001b[0m\n\u001b[1;32m     19\u001b[0m \u001b[0mprint\u001b[0m\u001b[0;34m(\u001b[0m\u001b[0mh\u001b[0m\u001b[0;34m)\u001b[0m\u001b[0;34m\u001b[0m\u001b[0;34m\u001b[0m\u001b[0m\n\u001b[0;32m---> 20\u001b[0;31m \u001b[0mkeys_adv\u001b[0m \u001b[0;34m=\u001b[0m \u001b[0;34m(\u001b[0m\u001b[0mpasserelle_post\u001b[0m\u001b[0;34m(\u001b[0m\u001b[0msession_key\u001b[0m\u001b[0;34m,\u001b[0m\u001b[0;34m\"/bin/banks/assistant/start\"\u001b[0m\u001b[0;34m,\u001b[0m \u001b[0;34m{\u001b[0m\u001b[0;34m'p'\u001b[0m\u001b[0;34m:\u001b[0m \u001b[0mp\u001b[0m\u001b[0;34m,\u001b[0m \u001b[0;34m'g'\u001b[0m\u001b[0;34m:\u001b[0m\u001b[0mg\u001b[0m\u001b[0;34m,\u001b[0m \u001b[0;34m'h'\u001b[0m\u001b[0;34m:\u001b[0m\u001b[0mh\u001b[0m\u001b[0;34m}\u001b[0m\u001b[0;34m)\u001b[0m\u001b[0;34m)\u001b[0m\u001b[0;34m\u001b[0m\u001b[0;34m\u001b[0m\u001b[0m\n\u001b[0m\u001b[1;32m     21\u001b[0m \u001b[0mprint\u001b[0m\u001b[0;34m(\u001b[0m\u001b[0mkeys_adv\u001b[0m\u001b[0;34m)\u001b[0m\u001b[0;34m\u001b[0m\u001b[0;34m\u001b[0m\u001b[0m\n\u001b[1;32m     22\u001b[0m \u001b[0madv_h\u001b[0m \u001b[0;34m=\u001b[0m \u001b[0meval\u001b[0m\u001b[0;34m(\u001b[0m\u001b[0mkeys_adv\u001b[0m\u001b[0;34m)\u001b[0m\u001b[0;34m[\u001b[0m\u001b[0;34m'h'\u001b[0m\u001b[0;34m]\u001b[0m\u001b[0;34m\u001b[0m\u001b[0;34m\u001b[0m\u001b[0m\n",
      "\u001b[0;31mNameError\u001b[0m: name 'session_key' is not defined"
     ]
    }
   ],
   "source": [
    "\n",
    "p = int('FFFFFFFFFFFFFFFFC90FDAA22168C234C4C6628B80DC1CD1'\n",
    "        '29024E088A67CC74020BBEA63B139B22514A08798E3404DD'\n",
    "        'EF9519B3CD3A431B302B0A6DF25F14374FE1356D6D51C245'\n",
    "        'E485B576625E7EC6F44C42E9A637ED6B0BFF5CB6F406B7ED'\n",
    "        'EE386BFB5A899FA5AE9F24117C4B1FE649286651ECE45B3D'\n",
    "        'C2007CB8A163BF0598DA48361C55D39A69163FA8FD24CF5F'\n",
    "        '83655D23DCA3AD961C62F356208552BB9ED529077096966D'\n",
    "        '670C354E4ABC9804F1746C08CA237327FFFFFFFFFFFFFFFF', base=16)\n",
    "g = 2\n",
    "PIERRE = 88275625857605\n",
    "FEUILLE  = 19779480974019653\n",
    "CISEAUX  = 18939445432636760\n",
    "\n",
    "\n",
    "# 0\n",
    "\n",
    "x = random.randint(1,p)\n",
    "h = pow(2,x,p)\n",
    "print(h)\n",
    "keys_adv = (passerelle_post(session_key,\"/bin/banks/assistant/start\", {'p': p, 'g':g, 'h':h}))\n",
    "print(keys_adv)\n",
    "adv_h = eval(keys_adv)['h'] \n",
    "adv_p = eval(keys_adv)['p']\n",
    "adv_g = eval(keys_adv)['g']\n"
   ]
  },
  {
   "cell_type": "code",
   "execution_count": null,
   "metadata": {},
   "outputs": [],
   "source": [
    "def round():\n",
    "    # 1    \n",
    "    round1 = passerelle_get(session_key,\"/bin/banks/assistant/round\")\n",
    "    print(\"de l'adv\",round1)\n",
    "    \n",
    "    # 2\n",
    "    y = random.randint(1,p) \n",
    "    a = pow(g,y,p)\n",
    "    b = (CISEAUX* pow(h,y,p)) %p\n",
    "    print(\"y\", y)\n",
    "    print(\"a\",a)\n",
    "    print(\"b\",b)\n",
    "    \n",
    "    gage = passerelle_post(session_key,\"/bin/banks/assistant/move\",{'a':a, 'b':b})\n",
    "    print(\"de l'adv\",gage)\n",
    "    gage = eval(gage)\n",
    "    \n",
    "    # 3\n",
    "    res = passerelle_post(session_key, \"/bin/banks/assistant/outcome\",{'move':'CISEAUX', 'y':y})\n",
    "    print(res)\n",
    "    "
   ]
  },
  {
   "cell_type": "code",
   "execution_count": null,
   "metadata": {},
   "outputs": [],
   "source": [
    "for i in range(1):\n",
    "    round()"
   ]
  },
  {
   "cell_type": "code",
   "execution_count": null,
   "metadata": {},
   "outputs": [],
   "source": [
    "print(passerelle_post(session_key, \"/bin/banks/referee\",{}))"
   ]
  },
  {
   "cell_type": "code",
   "execution_count": null,
   "metadata": {},
   "outputs": [],
   "source": [
    "adv_a = 981061124402978828643940661108329547134767684512741813892528896233040141518379498259032829655792786441861663301573625253852025157248982243731152409401350764797824843889357104632480433554236704741609188862979900371362026342238904584459921230622824377799466077408172841505142894924055564707998753371038331923542933445510492780575596720868527198898631835686975169694772695758295405500566738062118916653841937737942903778051340535872991986944798837056136889732160140\n",
    "adv_b = 490576244230913490118323980112840054911817633553598198786745706008432864485849488432826514970236772981308582237458640545924610177296149578558431574491511601081202237288940340858330032838138262843851527647811353555672565015157309246090867059655779713789076064581738786602860735665295175973895395394245168941969980033747789755601474062997187997934331407838745131424851018156188818245000451079051263248125342712402933324634194987466596272742891575939747894026304392\n",
    "adv_y = 1536066198128589564019565488266903384131467530791221109807705751888776066279565905164509033149798607088826204846013983562778238287391304015615470835961977824351430147943231501425808082651227282415698254152288502710430733891971839480070600981551378435864051093655056198246192438211601701007760898217000657820061901051728807938872850508703058957513126678725950200469409216504674686659660371196290452132835404773798340366150913529352028290997446999937951536302720960\n",
    "COUP = CISEAUX\n",
    "y = 436924510424511464620074975860889162175472296214045139064199081238613554044345432023285773343108017671626916667310357580249951673999734370039176980224457045074895494055591594504136355851338974269751734663207853201433227932571504943805236981768515725881258535997144933092462551299675507557800411507810133545489403731531459612084528674650800960018426812709251809027503743044352336765360852245585130043787747261449728372226526855092033317568029099389164958222629496\n",
    "a=854231430451990472849505486450097631731831211269198961771887235313571720696683351380268635525967218462829533831784344627052634157986972816296972283859195542639239781426247270124357651841625431926966109215442284877416654013677411319643163587401893415925348288682588262097294423671091209624950409936327049629430387143396987499561592415686469635522951867177823425846375507895505435962329604372286241898699194046771445006784199292057915692231501596180827450292259874\n",
    "b= 545191153534472118179196038101459986386020835766110912301248951383498721095108298941165737172415359536430498580638043593557365113325485087391606196887400768995710162269057898402307021945272725234346301758253512291951025850403753593935754389883911189097062488327523037408683757842891095893766582613460016260838993519112404759402210680664329025259885558625478327581969471186115250378705729711708108192501427978971080274113237666414219908488599492684625915041253598\n",
    "#calc_a =  pow(adv_g,adv_y,p)\n",
    "#calc_b = (FEUILLE * pow(adv_h,adv_y,p)) %p\n",
    "\n",
    "\n",
    "#Message =adv_b * modinv( pow(adv_a,x,p), p) %p\n",
    "#print(Message)\n",
    "\n",
    "l = [88275625857605, 19779480974019653,18939445432636760 ]\n",
    "c = ['PIERRE','FEUILLE','CISEAUX' ]\n",
    "\n",
    "\n",
    "\n"
   ]
  },
  {
   "cell_type": "code",
   "execution_count": null,
   "metadata": {},
   "outputs": [],
   "source": []
  },
  {
   "cell_type": "code",
   "execution_count": null,
   "metadata": {},
   "outputs": [],
   "source": []
  },
  {
   "cell_type": "code",
   "execution_count": null,
   "metadata": {},
   "outputs": [],
   "source": [
    "# A FAIRE failsafe"
   ]
  },
  {
   "cell_type": "code",
   "execution_count": 37,
   "metadata": {},
   "outputs": [
    {
     "name": "stdout",
     "output_type": "stream",
     "text": [
      "----------------------------------------------------------------------\n",
      "Message #66692.\n",
      "\n",
      "\n",
      "Date: 06-04-21892 22:09:07\n",
      "From: root\n",
      "Subject: Mauvaise nouvelle\n",
      "\n",
      "theresagomez,\n",
      "\n",
      "J'espère que tu ne recevras jamais ceci.\n",
      "\n",
      "Ceci est un message envoyé automatiquement au cas où je ne me connecterait pas à\n",
      "mon compte UGLIX pendant plus de 60 jours. Cela fait :\n",
      "\n",
      "-6241731\n",
      "\n",
      "jours que je ne me suis pas connecté. Il est crédible qu'il me soit arrivé\n",
      "quelque chose de désagréable ; tu sais bien que ce genre de choses se produit \n",
      "de nos jours. Tu ne peux problablement plus rien faire pour moi à ce stade. \n",
      "\n",
      "Je sais que cet email te fait courrir un risque important alors que tu n'as rien\n",
      "demandé. Tu peux choisir de l'ignorer. \n",
      "\n",
      "Mais tu peux aussi choisir d'aller visiter /sbin/failsafe/.\n",
      "\n",
      "Bon courage à ceux qui restent,\n",
      "---\n",
      "root@UGLIX.\n",
      "\n",
      "\n",
      "\n"
     ]
    }
   ],
   "source": [
    "print(c.get('/home/theresagomez/INBOX/66692')  )"
   ]
  },
  {
   "cell_type": "code",
   "execution_count": 50,
   "metadata": {},
   "outputs": [
    {
     "name": "stdout",
     "output_type": "stream",
     "text": [
      "USAGE:    /sbin/failsage/<access token>.\n"
     ]
    }
   ],
   "source": [
    "print(c.get(\"/sbin/failsafe\"))"
   ]
  },
  {
   "cell_type": "code",
   "execution_count": null,
   "metadata": {},
   "outputs": [],
   "source": [
    "# access token ??"
   ]
  },
  {
   "cell_type": "code",
   "execution_count": null,
   "metadata": {},
   "outputs": [],
   "source": []
  },
  {
   "cell_type": "code",
   "execution_count": null,
   "metadata": {},
   "outputs": [],
   "source": []
  },
  {
   "cell_type": "code",
   "execution_count": null,
   "metadata": {},
   "outputs": [],
   "source": []
  },
  {
   "cell_type": "code",
   "execution_count": null,
   "metadata": {},
   "outputs": [],
   "source": []
  },
  {
   "cell_type": "code",
   "execution_count": null,
   "metadata": {},
   "outputs": [],
   "source": []
  },
  {
   "cell_type": "code",
   "execution_count": null,
   "metadata": {},
   "outputs": [],
   "source": []
  },
  {
   "cell_type": "code",
   "execution_count": null,
   "metadata": {},
   "outputs": [],
   "source": []
  },
  {
   "cell_type": "code",
   "execution_count": null,
   "metadata": {},
   "outputs": [],
   "source": [
    "# =========== test-gateway ============\n",
    "\n",
    "clef_session = 'debug-me'\n",
    "dico = json.dumps( {'method': 'POST', 'url': '/bin/echo', 'args': {'foo': 42}})\n",
    "\n",
    "dico_encoded = encrypt(dico, clef_session)\n",
    "dico_encoded = base64.b64decode(dico_encoded)\n",
    "\n",
    "retour = c.post_raw(\"/bin/test-gateway\", dico_encoded)\n",
    "retour = base64.b64encode(retour)+b'\\n'  # ajout de \\n car convention\n",
    "#print(retour)\n",
    "#print(decrypt(retour,clef_session))"
   ]
  },
  {
   "cell_type": "code",
   "execution_count": null,
   "metadata": {},
   "outputs": [],
   "source": [
    "chaine = \"Väinö\"\n",
    "chaine_utf8 = chaine.encode()\n",
    "chaine_utf8 = base64.b64encode(chaine_utf8)\n",
    "\n",
    "dico = json.dumps({'method': 'PUT', 'url': '/bin/echo', 'data': 'VsOkaW7Dtg=='})\n",
    "\n",
    "dico_encoded = encrypt(dico, clef_session)\n",
    "dico_encoded = base64.b64decode(dico_encoded)\n",
    "\n",
    "retour = c.post_raw(\"/bin/test-gateway\", dico_encoded)\n",
    "retour = base64.b64encode(retour)+b'\\n'  # ajout de \\n car convention\n",
    "#print(retour)\n",
    "#print(decrypt(retour,clef_session))\n"
   ]
  },
  {
   "cell_type": "code",
   "execution_count": null,
   "metadata": {},
   "outputs": [],
   "source": []
  },
  {
   "cell_type": "code",
   "execution_count": null,
   "metadata": {},
   "outputs": [],
   "source": []
  },
  {
   "cell_type": "code",
   "execution_count": null,
   "metadata": {},
   "outputs": [],
   "source": []
  },
  {
   "cell_type": "code",
   "execution_count": null,
   "metadata": {},
   "outputs": [],
   "source": []
  },
  {
   "cell_type": "code",
   "execution_count": null,
   "metadata": {},
   "outputs": [],
   "source": []
  },
  {
   "cell_type": "code",
   "execution_count": null,
   "metadata": {},
   "outputs": [],
   "source": []
  },
  {
   "cell_type": "code",
   "execution_count": null,
   "metadata": {},
   "outputs": [],
   "source": []
  },
  {
   "cell_type": "code",
   "execution_count": null,
   "metadata": {},
   "outputs": [],
   "source": []
  },
  {
   "cell_type": "code",
   "execution_count": null,
   "metadata": {},
   "outputs": [],
   "source": []
  }
 ],
 "metadata": {
  "kernelspec": {
   "display_name": "Python 3",
   "language": "python",
   "name": "python3"
  },
  "language_info": {
   "codemirror_mode": {
    "name": "ipython",
    "version": 3
   },
   "file_extension": ".py",
   "mimetype": "text/x-python",
   "name": "python",
   "nbconvert_exporter": "python",
   "pygments_lexer": "ipython3",
   "version": "3.7.1"
  }
 },
 "nbformat": 4,
 "nbformat_minor": 2
}
