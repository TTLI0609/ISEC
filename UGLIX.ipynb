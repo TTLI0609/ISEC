{
 "cells": [
  {
   "cell_type": "code",
   "execution_count": 60,
   "metadata": {},
   "outputs": [],
   "source": [
    "%run UGLIX_FONCTIONS.ipynb\n",
    "%run UGLIX_HACKADEMY.ipynb"
   ]
  },
  {
   "cell_type": "code",
   "execution_count": 61,
   "metadata": {},
   "outputs": [],
   "source": [
    "# ==========================================================\n",
    "# ===================== Connection =========================\n",
    "# ==========================================================\n",
    "c = Connection()\n",
    "\n",
    "# ------ ECHO ------\n",
    "# get ＝ permet de recuperer la page = executer un prog sans argument\n",
    "#c.get('/bin/echo')\n",
    "#home = c.get('/home')\n",
    "\n",
    "\n",
    "# post ＝ lancer un prog avec argument\n",
    "#c.post('/bin/echo', string=\"toto\", list_example=[True, 42, {'foo': 'bar'}])"
   ]
  },
  {
   "cell_type": "code",
   "execution_count": 62,
   "metadata": {},
   "outputs": [],
   "source": [
    "# ==========================================================\n",
    "# ======================= guest ============================\n",
    "# ==========================================================\n",
    " \n",
    "#print(c.post('/bin/login',user=\"guest\",password=\"guest\"))\n",
    "#print(c.get('/home/guest'))\n",
    "\n",
    "# ------NASA.bin------\n",
    "#mes_encoder = c.get('/home/guest/NASA.bin')\n",
    "#mes_decoder = decrypt(mes_encoder, \"ISEC\")\n",
    "#print(mes_decoder)\n",
    "\n",
    "# ------INBOX------\n",
    "#num = c.get('/home/guest/INBOX/unread')         #liste des identifiants numériques des emails non-lus\n",
    "#print(c.get(\"/home/guest/INBOX/\"+str(num[0])))  # ../body, /subject, /sender\n",
    "\n"
   ]
  },
  {
   "cell_type": "code",
   "execution_count": 63,
   "metadata": {},
   "outputs": [
    {
     "name": "stdout",
     "output_type": "stream",
     "text": [
      "PAP login successful. Access to /home/theresagomez granted.\n",
      "[ You have new mail ]\n",
      "\n"
     ]
    }
   ],
   "source": [
    "# =============================\n",
    "#  nom         : Matthew Brown\n",
    "#  entreprise  : Monroe-Browning\n",
    "#  login       : theresagomez\n",
    "#  password    : +JskVIss03\n",
    "# =============================\n",
    "\n",
    "print(c.post('/bin/login',user=\"theresagomez\",password=\"+JskVIss03\"))\n",
    "#print(c.get(\"/home/theresagomez/INBOX\"))\n",
    "\n",
    "# =========================================================\n",
    "# ================== helpdesk =============================\n",
    "# =========================================================\n",
    "\n",
    "# ------ tuto ----------\n",
    "'''\n",
    "print(c.get('/bin/crypto_helpdesk/ticket/389'))                   \n",
    "print(c.get('/bin/crypto_helpdesk/ticket/389/attachment/client'))  # existe pour tout ticket\n",
    "dico = {}\n",
    "dico['foo'] = c.get('/bin/crypto_helpdesk/ticket/389/attachment/fetch-me')\n",
    "dico['bar'] = 42\n",
    "print(c.post('/bin/sendmail', to='callahanbobby',subject='', content=dico))\n",
    "print(c.post('/bin/crypto_helpdesk/ticket/389/close'))             # ui \n",
    "'''\n",
    "# ------- chiffrer ------\n",
    "'''\n",
    "print(c.get('/bin/crypto_helpdesk/ticket/390'))\n",
    "password = c.get('/bin/crypto_helpdesk/ticket/390/attachment/password')    # 3ykv0Tny#8 \n",
    "while (True):\n",
    "    storage = c.get(\"/bin/long-term-storage/1024\")\n",
    "    if storage['status'] == 'READY':\n",
    "        break\n",
    "m = c.get(storage['url'])\n",
    "m_encrypted = encrypt(m, password)\n",
    "print(c.post('/bin/sendmail', to='mary22',subject='', content=m_encrypted))\n",
    "print(c.post('/bin/crypto_helpdesk/ticket/390/close'))      #ui\n",
    "'''\n",
    "\n",
    "# ------- dechiffrer -----------\n",
    "'''\n",
    "print(c.get('/bin/crypto_helpdesk/ticket/391'))\n",
    "password = c.get('/bin/crypto_helpdesk/ticket/391/attachment/password') \n",
    "ciphertext = c.get('/bin/crypto_helpdesk/ticket/391/attachment/ciphertext') \n",
    "cipher = c.get('/bin/crypto_helpdesk/ticket/391/attachment/cipher') \n",
    "m_decrypted = decrypt(ciphertext, password, cipher)\n",
    "print(c.post('/bin/sendmail', to='richardsonjames',subject='', content=m_decrypted))\n",
    "\n",
    "print(c.post('/bin/crypto_helpdesk/ticket/391/close'))      #ui\n",
    "'''\n",
    "print()"
   ]
  },
  {
   "cell_type": "code",
   "execution_count": 64,
   "metadata": {},
   "outputs": [
    {
     "name": "stdout",
     "output_type": "stream",
     "text": [
      "CHAP login successful. Access to /home/theresagomez granted.\n",
      "[ You have new mail ]\n",
      "\n"
     ]
    }
   ],
   "source": [
    "# ========================================================\n",
    "# ====================== CHAP login ======================\n",
    "# ========================================================\n",
    "\n",
    "plaintext = \"theresagomez-\"+c.get('/bin/login/CHAP')['challenge']\n",
    "print(c.post('/bin/login/CHAP', user=\"theresagomez\", response=encrypt(plaintext, \"+JskVIss03\",'AES-128-CBC')))\n",
    "\n",
    "# ======== chiffrer avec public_key ==========\n",
    "'''\n",
    "print(c.get(\"/bin/crypto_helpdesk/ticket/441\"))\n",
    "message = c.get('/bin/crypto_helpdesk/ticket/441/attachment/message')\n",
    "public_key =  c.get('/bin/crypto_helpdesk/ticket/441/attachment/public-key')\n",
    "\n",
    "text_file = open(\"key.pem\", \"w\")\n",
    "n = text_file.write(public_key)\n",
    "text_file.close()\n",
    "\n",
    "m_encrypted = encrypt_public_key(message, \"key.pem\")\n",
    "print(c.post('/bin/sendmail', to='cgolden',subject='', content=m_encrypted))\n",
    "print(c.post('/bin/crypto_helpdesk/ticket/441/close'))      #ui\n",
    "'''\n",
    "\n",
    "\n",
    "#   ==== genere clefs et publie clef public ====\n",
    "#my_public_key,my_private_key =gen_keys('my_public_key.pem', 'my_private_key.pem')  \n",
    "#print(c.post('/bin/key-management/upload-pk', public_key=my_public_key,confirm=True )) \n",
    "#   ==== fin ===================================\n",
    "\n",
    "\"\"\"\n",
    "# ------ chiffrer avec public_key ----------\n",
    "print(c.get(\"/bin/crypto_helpdesk/ticket/442\"))\n",
    "message = \"informations très très très sensibles\"\n",
    "addrese = c.get('/bin/crypto_helpdesk/ticket/442/attachment/contact')\n",
    "\n",
    "\n",
    "# extraire public key de katrina via key-management\n",
    "public_key =  c.get('/bin/key-management/'+addrese+'/pk')\n",
    "# fichier pkey_katrinahodges.pem\n",
    "gen_fichier_pem('pkey_katrinahodges.pem', public_key)\n",
    "\n",
    "\n",
    "# envoi du message codé par la clef public de katrina\n",
    "m_encrypted = encrypt_public_key(message, \"pkey_katrinahodges.pem\")   \n",
    "#c.post('/bin/sendmail', to=addrese, subject='442', content=m_encrypted)\n",
    "\n",
    "#print(c.get(\"/home/theresagomez/INBOX/6269\"))\n",
    "\n",
    "# decrypter le code recu\n",
    "msg_encoded = c.get(\"/home/theresagomez/INBOX/6269/body\")\n",
    "msg_decrypted = decrypt_public_key(msg_encoded, 'my_private_key.pem')\n",
    "\n",
    "\n",
    "# envoyer a \n",
    "c.post('/bin/sendmail', to='michaelmurphy', subject='442', content=msg_decrypted)\n",
    "print(c.get(\"/home/theresagomez/INBOX/6274\"))\n",
    "print(c.post('/bin/crypto_helpdesk/ticket/442/close'))      #ui\n",
    "\"\"\"\n",
    "\n",
    "\"\"\"\n",
    "# generer chaine (chiffre et lettre) alea de 16 car\n",
    "# chiffrer le tetxe avce aes\n",
    "# chiffrer la chaine alea avec clef public de dest\n",
    "# envoyer\n",
    "# -------- chiffrement hybride -----------\n",
    "print(c.get(\"/bin/crypto_helpdesk/ticket/443\"))\n",
    "\n",
    "contact = c.get('/bin/crypto_helpdesk/ticket/443/attachment/contact')\n",
    "reciprocity = c.get('/bin/crypto_helpdesk/ticket/443/attachment/reciprocity')\n",
    "\n",
    "\n",
    "liste_char=string.ascii_letters+string.digits\n",
    "session_key = \"\"\n",
    "for i in range(17):\n",
    "    session_key+=liste_char[random.randint(0,len(liste_char)-1)]\n",
    "\n",
    "\n",
    "# clef pubblic de dest\n",
    "dest_pub =  c.get('/bin/key-management/'+contact+'/pk')\n",
    "gen_fichier_pem('dest_pub.pem', dest_pub)\n",
    "\n",
    "\n",
    "# encrypt texte and session key\n",
    "msg_encrypted_aes = encrypt(reciprocity, session_key)\n",
    "session_key_encrypted = encrypt_public_key(session_key ,'dest_pub.pem')\n",
    "\n",
    "\n",
    "dico = {}\n",
    "dico[\"payload\"] = msg_encrypted_aes\n",
    "dico[\"session_key\"] = session_key_encrypted\n",
    "\n",
    "\n",
    "print(c.post('/bin/sendmail', to=contact ,subject='', content=dico))\n",
    "\n",
    "print(c.get(\"/home/theresagomez/INBOX/6548\"))\n",
    "print(c.post('/bin/crypto_helpdesk/ticket/443/close'))      #ui\n",
    "\n",
    "\"\"\"\n",
    "print()"
   ]
  },
  {
   "cell_type": "code",
   "execution_count": 65,
   "metadata": {},
   "outputs": [
    {
     "name": "stdout",
     "output_type": "stream",
     "text": [
      "\n"
     ]
    }
   ],
   "source": [
    "# ========================================================\n",
    "# ====================== CLEA  ===========================\n",
    "# ========================================================\n",
    "\n",
    "# ------ signer le contrat ----\n",
    "'''\n",
    "contrat = c.get('/home/theresagomez/INBOX/6551/body')\n",
    "\n",
    "#   ---- genere clefs et publie clef public --\n",
    "#my_public_key,my_private_key =gen_keys('my_public_key.pem', 'my_private_key.pem')  \n",
    "#print(c.post('/bin/key-management/upload-pk', public_key=my_public_key,confirm=True )) \n",
    "#   ---- fin ---------------------------------\n",
    "\n",
    "#print(c.post('/bin/key-management/upload-signature', signature=signa, signer= 'theresagomez')) \n",
    "contrat = c.get(\"/home/theresagomez/INBOX/6551/body\")\n",
    "signer = prod_signature('my_private_key.pem', 'signature.bin', contrat)\n",
    "signer = base64.b64encode(signer)\n",
    "print(signer.decode())\n",
    "#print(c.post('/bin/sendmail', to=\"josebaker\" ,subject='', content=signer.decode()))\n",
    "#print(c.get('/home/theresagomez/INBOX/10088'))\n",
    "'''\n",
    "print()\n"
   ]
  },
  {
   "cell_type": "code",
   "execution_count": 66,
   "metadata": {
    "scrolled": true
   },
   "outputs": [
    {
     "name": "stdout",
     "output_type": "stream",
     "text": [
      "\n"
     ]
    }
   ],
   "source": [
    "# ========================================================\n",
    "# ====================== police_hq =======================\n",
    "# ========================================================\n",
    "\n",
    "\"\"\" \n",
    "#print(c.get(\"/bin/police_hq/ticket/447\"))     # compte \n",
    "\n",
    "dico= c.get('/share/words').split('\\n')\n",
    "username = c.get(\"/bin/police_hq/ticket/447/attachment/username\")\n",
    "#trace = c.get(\"/bin/police_hq/ticket/447/attachment/trace\")\n",
    "challenge = \"670f4d18f82b4945911cdec886582a92\"\n",
    "response = \"U2FsdGVkX1/gb8prkqadR1UHmkFVUO72jHY5mFqmcWpPh7wD9/PoJVxyMNIeLNcM\\n+8O1GW1O+HsRHPJDM9m7Eg==\\n\"\n",
    "\n",
    "plaintext = username\n",
    "print(plaintext)\n",
    "res = \"\"\n",
    "i= 0\n",
    "\n",
    "for i in range(len(dico)):\n",
    "    try:\n",
    "        res = decrypt(response, dico[i])\n",
    "        if (res == ''):\n",
    "            continue\n",
    "        if (plaintext in res ):\n",
    "            print(res)\n",
    "            print(dico[i],i)\n",
    "            break\n",
    "        print(res)\n",
    "    except:\n",
    "        continue\n",
    "\n",
    "#resultat = \"modulation 26679\"\n",
    "#dest = c.get('/bin/police_hq/ticket/447/attachment/client')['email']\n",
    "#print(c.post('/bin/sendmail', to=dest ,subject='', content=\"modulation\"))\n",
    "\n",
    "\"\"\"\n",
    "print()"
   ]
  },
  {
   "cell_type": "code",
   "execution_count": 67,
   "metadata": {},
   "outputs": [
    {
     "name": "stdout",
     "output_type": "stream",
     "text": [
      "\n"
     ]
    }
   ],
   "source": [
    "\"\"\"\n",
    "def byte_xor(ba1, ba2):\n",
    "    return bytes([_a ^ _b for _a, _b in zip(ba1, ba2)])\n",
    "\n",
    "\n",
    "\n",
    "#print(c.get(\"/bin/police_hq/ticket/444\"))     # 2X.PAD\n",
    "#print(c.get(\"/bin/police_hq/ticket/444/attachment/indication-2\"))\n",
    "\n",
    "A = c.get(\"/bin/police_hq/ticket/444/attachment/exhibit-A\" )\n",
    "B = c.get(\"/bin/police_hq/ticket/444/attachment/exhibit-B\" )\n",
    "i = c.get(\"/bin/police_hq/ticket/444/attachment/i\")\n",
    "j = c.get(\"/bin/police_hq/ticket/444/attachment/j\")\n",
    "sample = c.get(\"/bin/police_hq/ticket/444/attachment/sample\")\n",
    "\n",
    "dest = c.get('/bin/police_hq/ticket/444/attachment/client')['email']\n",
    "\n",
    "\n",
    "A = base64.b64decode(A)\n",
    "B = base64.b64decode(B)\n",
    "\n",
    "AB = (byte_xor(A,B))\n",
    "\n",
    "\n",
    "zero = ord('0')\n",
    "one = ord('1')\n",
    "res0 = \"\"\n",
    "res1 = \"\"\n",
    "for i in range(len(AB)):\n",
    "    res0 += (chr(AB[i]^zero))\n",
    "    res1 += (chr(AB[i]^one))\n",
    "# xor avec 0 en ascci et 1 en ascii\n",
    "print(''.join(res0))\n",
    "print()\n",
    "print(''.join(res1))\n",
    "\n",
    "#print(c.post('/bin/sendmail', to=dest ,subject='', content=\"soliloques\"))\n",
    "\n",
    "#Barde que ut!ld!qmair!untknurs tu solhmnptdr\n",
    "#C`sed!ptd!tu me pl`hs toujotsr!ut!rnmiloques\n",
    "\n",
    "#print(c.post('/bin/police_hq/ticket/444/close'))\n",
    "\"\"\"\n",
    "print()"
   ]
  },
  {
   "cell_type": "code",
   "execution_count": null,
   "metadata": {},
   "outputs": [],
   "source": []
  },
  {
   "cell_type": "code",
   "execution_count": null,
   "metadata": {},
   "outputs": [],
   "source": []
  },
  {
   "cell_type": "code",
   "execution_count": 68,
   "metadata": {},
   "outputs": [],
   "source": [
    "# A FAIRE"
   ]
  },
  {
   "cell_type": "code",
   "execution_count": 69,
   "metadata": {},
   "outputs": [],
   "source": [
    "\n",
    "#print(c.get(\"/bin/police_hq/ticket/445\"))\n",
    "trans = c.get(\"/bin/banks/forensics\")\n",
    "identifier = trans['identifier']\n",
    "card_nb = trans['card-numbers']\n",
    "certificat = (c.get(\"/bin/banks/CA\"))\n",
    "def police_445():\n",
    "    dico = {\"identifier\":identifier,'statuses':[] }\n",
    "\n",
    "    for i in range (len(card_nb)):\n",
    "        data = c.get(\"/bin/banks/card-data/\"+str(card_nb[i]))\n",
    "        #if((certi_verify(data['bank-certificate']) != ''): \n",
    "         #   dico['statuses'].append(False)\n",
    "          #  continue\n",
    "        #if((certi_verify(data['card-certificate']) != ''): \n",
    "         #   dico['statuses'].append(False)\n",
    "          #  continue\n",
    "        \n",
    "    return dico\n",
    "#print(police_445())"
   ]
  },
  {
   "cell_type": "code",
   "execution_count": 70,
   "metadata": {},
   "outputs": [],
   "source": [
    "def l_raisons(n):\n",
    "    liste ={}\n",
    "    for i in range(n):\n",
    "        res =(c.get(\"/bin/banks/forensics/sample\"))\n",
    "        if res['valid']==False:\n",
    "            if res['reason'] not in liste:\n",
    "                liste[ res['reason']]=res\n",
    "    return liste\n",
    "#raison = (l_raisons(25))"
   ]
  },
  {
   "cell_type": "code",
   "execution_count": 71,
   "metadata": {},
   "outputs": [],
   "source": [
    "def certi_affichage(certificat, mode = 'text'):\n",
    "    args = ['openssl', 'x509', '-'+mode, '-noout']  \n",
    "    pipeline = Popen(args, stdin=PIPE, stdout=PIPE, stderr=PIPE)\n",
    "    stdout, stderr = pipeline.communicate(certificat)\n",
    "    error_message = stderr.decode()\n",
    "    if error_message != '':\n",
    "        raise OpensslError(error_message)\n",
    "    return stdout.decode()\n",
    "\n",
    "cert = b'-----BEGIN CERTIFICATE-----\\nMIIB+DCCAZ2gAwIBAgIUNQ9yTqcMiuR+bbOZyxgAHcFim9owCgYIKoZIzj0EAwIw\\nTjEkMCIGA1UECgwbSGlnaGVyLW9yZGVyIEFic3RyYWN0IExvZ2ljMQ4wDAYDVQQL\\nDAVVR0xJWDEWMBQGA1UEAwwNVUdMSVggcm9vdCBDQTAeFw0yMDAyMjkxNDU4NDBa\\nFw0yMTAyMjgxNDU4NDBaMEQxFzAVBgNVBAoMDkpvaG5zb24tTmd1eWVuMRcwFQYD\\nVQQLDA5LZXkgTWFuYWdlbWVudDEQMA4GA1UEAwwHQmFuayBDQTBWMBAGByqGSM49\\nAgEGBSuBBAAKA0IABGdCqynOYLvUls1R0gvLQQ3w7CgJ7i/lANd56UocdvMMecp9\\nxQX9102PoNNKPWF0StjqV+f+fD4+Dh0V3xxIEr6jZjBkMB0GA1UdDgQWBBTV0xk0\\ne1ixkw/gKkqsAwYxoUtgCjAfBgNVHSMEGDAWgBQ1DmjfeeCQ9E8NgdOGSFJL3XIY\\niDASBgNVHRMBAf8ECDAGAQH/AgEAMA4GA1UdDwEB/wQEAwIBhjAKBggqhkjOPQQD\\nAgNJADBGAiEApgJP28l7+WTYobg1VBfu3cl0tNHdBNkaL6rlE+CI2lwCIQD9Dpve\\n8OX669ePbgmGOOWudgCOGgffDbD617BZ5TYFvQ==\\n-----END CERTIFICATE-----\\n'\n",
    "#print(certi_affichage(cert))\n",
    "#print(certi_affichage(cert,mode='subject'))\n",
    "#print(certi_affichage(cert,mode='pubkey'))\n",
    "\n",
    "def certi_verify(certificat):\n",
    "    args = ['openssl', 'verify']\n",
    "    pipeline = Popen(args, stdin=PIPE, stdout=PIPE, stderr=PIPE)\n",
    "    stdout, stderr = pipeline.communicate(certificat)\n",
    "    error_message = stderr.decode()\n",
    "    ##if error_message != '':\n",
    "      ##  raise OpensslError(error_message)\n",
    "    return stderr.decode()\n",
    "#print(certi_verify(cert))\n",
    "\n",
    "\n",
    "def certi_trusted(certificat, fic_certi_valide):\n",
    "    args = ['openssl', 'verify', '-trusted', fic_certi_valide]  \n",
    "    pipeline = Popen(args, stdin=PIPE, stdout=PIPE, stderr=PIPE)\n",
    "    stdout, stderr = pipeline.communicate(certificat)\n",
    "    error_message = stderr.decode()\n",
    "    return stderr.decode()\n",
    "#print(certi_trusted(cert,'ca_certi'))\n",
    "\n",
    "#gen_fichier_pem('ca_certi', (c.get(\"/bin/banks/CA\")))\n",
    "    "
   ]
  },
  {
   "cell_type": "code",
   "execution_count": 72,
   "metadata": {},
   "outputs": [],
   "source": [
    "#c.get(\"/bin/banks/card-data/\"+str(card_nb[0]))"
   ]
  },
  {
   "cell_type": "code",
   "execution_count": null,
   "metadata": {},
   "outputs": [],
   "source": []
  },
  {
   "cell_type": "code",
   "execution_count": null,
   "metadata": {},
   "outputs": [],
   "source": []
  },
  {
   "cell_type": "code",
   "execution_count": 73,
   "metadata": {},
   "outputs": [
    {
     "name": "stdout",
     "output_type": "stream",
     "text": [
      "CHAP login successful. Access to /home/cassandra09 granted.\n"
     ]
    }
   ],
   "source": [
    "# ========================\n",
    "plaintext = \"cassandra09-\"+c.get('/bin/login/CHAP')['challenge']\n",
    "print(c.post('/bin/login/CHAP', user=\"cassandra09\", response=encrypt(plaintext, \"modulation\",'AES-128-CBC')))#\n",
    "#print(c.get(\"/home/cassandra09/TODO\").decode())\n",
    "# ========================\n",
    "\n",
    "#fichier = (c.get(\"/home/cassandra09/research.jpg\"))\n",
    "#gen_fichier_pem('research.jpg', fichier, mode = 'wb')\n",
    "\n",
    "\n"
   ]
  },
  {
   "cell_type": "code",
   "execution_count": 74,
   "metadata": {},
   "outputs": [],
   "source": [
    "# A FAIRE le truc de fsck\n",
    "\n",
    "#print(c.get(\"/bin/fsck\"))"
   ]
  },
  {
   "cell_type": "code",
   "execution_count": null,
   "metadata": {},
   "outputs": [],
   "source": []
  },
  {
   "cell_type": "code",
   "execution_count": null,
   "metadata": {},
   "outputs": [],
   "source": []
  },
  {
   "cell_type": "code",
   "execution_count": 75,
   "metadata": {},
   "outputs": [
    {
     "name": "stdout",
     "output_type": "stream",
     "text": [
      "\n"
     ]
    }
   ],
   "source": [
    "# ========================================\n",
    "# ========== anonymous.coward ============\n",
    "# ========================================\n",
    "\n",
    "\n",
    "# WEB.OF.TRUST\n",
    "#print(c.post('/bin/sendmail', to='anonymous.coward' ,subject='', content=\"=\"))\n",
    "'''\n",
    "res = (c.get(\"/home/theresagomez/INBOX/13711/body\"))\n",
    "session_key = \"K6sV9+Y3NgctuBcYUq8SfTSI5Xlxp2jeZas1evy5cxdpHELGXERhuABI8R7CZzWvN2jWXyFT5Jmelc6zWYeXdelnks2dWQSyoZWsb5eRsaZqqR6aYGkqjcs5TJKihsqRIvYKdi6HgHMdh66XK8fzpBtUXUssseAuaNTYvLja9W4ibuUnIZfkvrPea2cfoCVPh4DeiPuQoTvsWhP0EcHoBVDtzQUpj2TTDEp6TSSDqabVM6TZOeRDvqnSKaLqIwOKoRL7A3z9m7O9EbP230Raw2AdmXOetgKDyHow1wlTQor52UgNokv6nJ+W6RbNJq5TVzvHI6+jGzxW4SkOo6uifQ==\"\n",
    "payload = \"U2FsdGVkX1/U8YlTptthYvrbKFRL+uVrAjpiDK33HNRutf9aotm5oJEmGrX3TUoi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\\n\"\n",
    "\n",
    "#key = decrypt_public_key(session_key, 'my_private_key.pem')\n",
    "\n",
    "# cest quoi p ??\n",
    "#p  = b'+\\xab\\x15\\xf7\\xe676\\x07-\\xb8\\x17\\x18R\\xaf\\x12}4\\x88\\xe5yq\\xa7h\\xdee\\xab5z\\xfc\\xb9s\\x17i\\x1cB\\xc6\\\\Da\\xb8\\x00H\\xf1\\x1e\\xc2g5\\xaf7h\\xd6_!S\\xe4\\x99\\x9e\\x95\\xce\\xb3Y\\x87\\x97u\\xe9g\\x92\\xcd\\x9dY\\x04\\xb2\\xa1\\x95\\xaco\\x97\\x91\\xb1\\xa6j\\xa9\\x1e\\x9a`i*\\x8d\\xcb9L\\x92\\xa2\\x86\\xca\\x91\"\\xf6\\nv.\\x87\\x80s\\x1d\\x87\\xae\\x97+\\xc7\\xf3\\xa4\\x1bT]K,\\xb1\\xe0.h\\xd4\\xd8\\xbc\\xb8\\xda\\xf5n\"n\\xe5\\'!\\x97\\xe4\\xbe\\xb3\\xdekg\\x1f\\xa0%O\\x87\\x80\\xde\\x88\\xfb\\x90\\xa1;\\xecZ\\x13\\xf4\\x11\\xc1\\xe8\\x05P\\xed\\xcd\\x05)\\x8fd\\xd3\\x0cJzM$\\x83\\xa9\\xa6\\xd53\\xa4\\xd99\\xe4C\\xbe\\xa9\\xd2)\\xa2\\xea#\\x03\\x8a\\xa1\\x12\\xfb\\x03|\\xfd\\x9b\\xb3\\xbd\\x11\\xb3\\xf6\\xdfDZ\\xc3`\\x1d\\x99s\\x9e\\xb6\\x02\\x83\\xc8z0\\xd7\\tSB\\x8a\\xf9\\xd9H\\r\\xa2K\\xfa\\x9c\\x9f\\x96\\xe9\\x16\\xcd&\\xaeSW;\\xc7#\\xaf\\xa3\\x1b<V\\xe1)\\x0e\\xa3\\xab\\xa2}'\n",
    "\n",
    "b= 'aa758b2be233a14c53319f9e6a024529'\n",
    "msg = decrypt(payload, b)\n",
    "print(msg)\n",
    "\n",
    "print()\n",
    "'''\n",
    "print()"
   ]
  },
  {
   "cell_type": "code",
   "execution_count": 76,
   "metadata": {},
   "outputs": [],
   "source": [
    "def kerberos(numMV):\n",
    "\n",
    "    \n",
    "    dic = (c.get(\"/bin/kerberos/authentication-service/theresagomez\"))\n",
    "    Client_TGS_session_key = dic['Client-TGS-session-key'] \n",
    "    session_key = decrypt(Client_TGS_session_key, '+JskVIss03')\n",
    "    TGT = dic['TGT']\n",
    "    \n",
    "    d = {'username': 'theresagomez', 'timestamp': time.time()}\n",
    "    e = json.dumps(d)  \n",
    "    authenticator=encrypt(e, session_key)\n",
    "    ticket = c.post(\"/bin/kerberos/ticket-granting-service\",TGT=TGT,vm_name=numMV,authenticator=authenticator)\n",
    "    \n",
    "    \n",
    "    Client_session_key=ticket['Client-Server-session-key']\n",
    "    Client_session_key= decrypt(Client_session_key,session_key)\n",
    "    Client_Server_ticket = ticket['Client-Server-ticket']\n",
    "    \n",
    "    d = {'username': 'theresagomez', 'timestamp': time.time()}\n",
    "    e = json.dumps(d)\n",
    "    authenticator=encrypt(e, Client_session_key)\n",
    "    mv = c.post(\"/bin/uVM/\"+str(numMV)+\"/hello\",ticket= Client_Server_ticket, authenticator=authenticator)\n",
    "    return (Client_session_key)\n",
    "    print(mv)"
   ]
  },
  {
   "cell_type": "code",
   "execution_count": 77,
   "metadata": {},
   "outputs": [],
   "source": [
    "num = 4\n",
    "#Client_session_key= kerberos(num)\n",
    "#print(passerelle_get(Client_session_key, '/',kerberos=True,num=num))\n",
    "\n",
    "# A FAIRE trouver le numero de anonymous "
   ]
  },
  {
   "cell_type": "code",
   "execution_count": null,
   "metadata": {},
   "outputs": [],
   "source": []
  },
  {
   "cell_type": "code",
   "execution_count": null,
   "metadata": {},
   "outputs": [],
   "source": []
  },
  {
   "cell_type": "code",
   "execution_count": 78,
   "metadata": {},
   "outputs": [
    {
     "name": "stdout",
     "output_type": "stream",
     "text": [
      "\n"
     ]
    }
   ],
   "source": [
    "# ========================================\n",
    "# ================ STP ===================\n",
    "# ========================================\n",
    "\n",
    "\"\"\"\n",
    "nonce = c.post(\"/bin/login/stp\", username =\"theresagomez\" )\n",
    "\n",
    "session_key = \"+JskVIss03\"+'-'+nonce\n",
    "print(passerelle_get(session_key, \"/bin/login/stp/handshake\"))\n",
    "\n",
    "\"\"\"\n",
    "\n",
    "\n",
    "\"\"\"\n",
    "#print(passerelle_get(session_key, \"/bin/police_hq/ticket/446\"))     #DIE.HARD(WARE)\n",
    "print(passerelle_get(session_key, '/service/hardware/status'))   \n",
    "\n",
    "print(passerelle_get(session_key, '/service/hardware/action'))\n",
    "print(passerelle_post(session_key, '/service/hardware/action/LIGHT',{'action': 'emergency'}))\n",
    "print(passerelle_post(session_key, \"/service/hardware/911\",{'reason': 'FIRE'}))\n",
    "\n",
    "#print(c.post('/bin/police_hq/ticket/446/close'))\n",
    "\"\"\"\n",
    "print()"
   ]
  },
  {
   "cell_type": "code",
   "execution_count": 79,
   "metadata": {},
   "outputs": [],
   "source": [
    "# pas de point pou ca ? lol\n",
    "#print(passerelle_post(session_key, '/service/hardware/catapult',{'uri':'/sys/core'}))\n",
    "#print(passerelle_get(session_key, '/sys/core'))\n"
   ]
  },
  {
   "cell_type": "code",
   "execution_count": null,
   "metadata": {},
   "outputs": [],
   "source": []
  },
  {
   "cell_type": "code",
   "execution_count": null,
   "metadata": {},
   "outputs": [],
   "source": []
  },
  {
   "cell_type": "code",
   "execution_count": 80,
   "metadata": {},
   "outputs": [],
   "source": [
    "# =================================================\n",
    "# ================ hackademy ======================\n",
    "# ================================================="
   ]
  },
  {
   "cell_type": "code",
   "execution_count": 81,
   "metadata": {},
   "outputs": [
    {
     "name": "stdout",
     "output_type": "stream",
     "text": [
      "\n"
     ]
    }
   ],
   "source": [
    "# ============== 448 #linear equation =================\n",
    "\"\"\"\n",
    "print(c.get(\"/bin/hackademy/ticket/448\"))    \n",
    "a = int(c.get(\"/bin/hackademy/ticket/448/attachment/a\"))\n",
    "b = int(c.get(\"/bin/hackademy/ticket/448/attachment/b\"))\n",
    "n = int(c.get(\"/bin/hackademy/ticket/448/attachment/n\"))\n",
    "\n",
    "res = -b+n\n",
    "a_inv = modinv(a,n)\n",
    "res = res*a_inv\n",
    "print(c.post(\"/bin/hackademy/exam/arith/eq-lin-mod-p\", X =res))\n",
    "print(c.post('/bin/hackademy/ticket/448/close'))  \n",
    "\"\"\"\n",
    "\n",
    "# ============== 449 #PRIME OU PAS ===================\n",
    "\"\"\"\n",
    "print(c.get(\"/bin/hackademy/ticket/449\"))    \n",
    "n = int(c.get(\"/bin/hackademy/ticket/449/attachment/n\"))\n",
    "print(c.post(\"/bin/hackademy/exam/prime/fermat-disproof\", a=0)) # l o l\n",
    "print(c.post('/bin/hackademy/ticket/449/close'))  \n",
    "\"\"\"\n",
    "\n",
    "# ============== 450 #PRIME.RANGE ===================\n",
    "\"\"\"\n",
    "print(c.get(\"/bin/hackademy/ticket/450\"))   \n",
    "a = int(c.get(\"/bin/hackademy/ticket/450/attachment/a\"))\n",
    "b = int(c.get(\"/bin/hackademy/ticket/450/attachment/b\"))\n",
    "#print(c.get(\"/bin/hackademy/ticket/450/attachment/indication-0\"))\n",
    "i = a #a est impair\n",
    "while True:\n",
    "    if (millerRabin(i)==True):\n",
    "        res = i\n",
    "        break\n",
    "    i += 2\n",
    "    \n",
    "print(res)\n",
    "print(c.post(\"/bin/hackademy/exam/prime/range\", p=res)) \n",
    "print(c.post('/bin/hackademy/ticket/450/close'))  \n",
    "\"\"\"\n",
    "\n",
    "# ============== 456 #ELGAMAL.CCA ===================\n",
    "\"\"\"\n",
    "print(c.get(\"/bin/hackademy/ticket/456\"))       \n",
    "p = c.get(\"/bin/hackademy/ticket/456/attachment/p\")\n",
    "g = c.get(\"/bin/hackademy/ticket/456/attachment/g\")\n",
    "ciphertext = c.get(\"/bin/hackademy/exam/elgamal/malleability\")[\"ciphertext\"]\n",
    "pk = c.get(\"/bin/hackademy/exam/elgamal/malleability\")[\"PK\"]\n",
    "\n",
    "reponse = c.post(\"/bin/hackademy/exam/elgamal/malleability\", a=ciphertext[0], b= 2*ciphertext[1])['m']\n",
    "\n",
    "res = reponse //2\n",
    "\n",
    "i = res\n",
    "h = \"{0:016x}\".format(i)\n",
    "res = base64.b16decode(h, casefold=True)\n",
    "print(res)\n",
    "print(c.post('/bin/hackademy/ticket/456/close')) \n",
    "\"\"\"\n",
    "\n",
    "# ============== 457 #ELGAMAL.DECRYPT ===================\n",
    "''' \n",
    "print(c.get(\"/bin/hackademy/ticket/457\"))    \n",
    "p = int(c.get(\"/bin/hackademy/ticket/457/attachment/p\"))\n",
    "g = int(c.get(\"/bin/hackademy/ticket/457/attachment/g\"))\n",
    "\n",
    "h = g # x=1\n",
    "\n",
    "ciphertext =  c.post(\"/bin/hackademy/exam/elgamal/decryption\", h= h)['ciphertext']\n",
    "\n",
    "k = ciphertext[0]**1\n",
    "M = ciphertext[1] * modinv(k,p)\n",
    "M = M%p\n",
    "\n",
    "\n",
    "i = M\n",
    "h = \"{0:016x}\".format(i)\n",
    "res = base64.b16decode(h, casefold=True)\n",
    "print(res)\n",
    "print(c.post('/bin/hackademy/ticket/457/close')) \n",
    "'''\n",
    "\n",
    "# ============== 458 #CHINESE.REM ===================\n",
    "\"\"\"\n",
    "print(c.get(\"/bin/hackademy/ticket/458\"))    \n",
    "#print(c.get(\"/bin/hackademy/ticket/458/attachment/indication-1\"))\n",
    "n = c.get(\"/bin/hackademy/ticket/458/attachment/n\")\n",
    "x = c.get(\"/bin/hackademy/ticket/458/attachment/x\")\n",
    "tab = []\n",
    "for i in range(len(n)):\n",
    "    tab.append([x[i],n[i]])\n",
    "X = rchinois(tab)[0]\n",
    "print(c.post(\"/bin/hackademy/exam/arith/CRT\", X=X))\n",
    "print(c.post('/bin/hackademy/ticket/458/close')) \n",
    "\"\"\"\n",
    "\n",
    "# ============== 459 #RSA.KEYGEN ================== \n",
    "\"\"\"\n",
    "print(c.get(\"/bin/hackademy/ticket/459\"))  \n",
    "e = int(c.get(\"/bin/hackademy/ticket/459/attachment/e\"))\n",
    "\n",
    "\n",
    "p =premier_nb_alea((10**408)+1)\n",
    "q= premier_nb_alea(p+2)\n",
    "\n",
    "n =p*q\n",
    "ciphertext = c.post(\"/bin/hackademy/exam/rsa/keygen\", n=n)['ciphertext']\n",
    "\n",
    "d = modinv(e,(p-1)*(q-1))\n",
    "m = lpowmod(ciphertext, d, n)\n",
    "print(m)\n",
    "i = m\n",
    "h = \"{0:016x}\".format(i)\n",
    "res = base64.b16decode(h, casefold=True)\n",
    "print(res)\n",
    "#print(c.post('/bin/hackademy/ticket/459/close')) \n",
    "\"\"\"\n",
    "\n",
    "print()"
   ]
  },
  {
   "cell_type": "code",
   "execution_count": 82,
   "metadata": {},
   "outputs": [
    {
     "name": "stdout",
     "output_type": "stream",
     "text": [
      "\n"
     ]
    }
   ],
   "source": [
    "# ============== 460 #RSA.REDUCTION================== \n",
    "\"\"\"\n",
    "print(c.get(\"/bin/hackademy/ticket/460\"))  \n",
    "\n",
    "n = int(c.get(\"/bin/hackademy/ticket/460/attachment/n\"))\n",
    "e = int(c.get(\"/bin/hackademy/ticket/460/attachment/e\"))\n",
    "d = int(c.get(\"/bin/hackademy/ticket/460/attachment/d\"))\n",
    "\n",
    "#print(c.get(\"/bin/hackademy/ticket/460/attachment/indication-1\"))\n",
    "\n",
    "k = (e*d -1) //2\n",
    "cpt = 0\n",
    "while(True):\n",
    "    x = random.randint(1, n)\n",
    "    y = lpowmod(x,k,n)\n",
    "    if (cpt>50):\n",
    "        k = k // 2\n",
    "    if y == 1 or y== -1:\n",
    "        cpt += 1\n",
    "        continue\n",
    "    else:\n",
    "        res = pgcd(y-1,n)\n",
    "        break\n",
    "print (res)\n",
    "\n",
    "i = res\n",
    "h = \"{0:016x}\".format(i)\n",
    "base64.b16decode(h, casefold=True)\n",
    "\"\"\"\n",
    "\n",
    "\n",
    "# ============== 461 #RSA.MSB ==================\n",
    "\"\"\"\n",
    "#print(c.get(\"/bin/hackademy/ticket/461\"))    \n",
    "n = int(c.get(\"/bin/hackademy/ticket/461/attachment/n\"))\n",
    "e = int(c.get(\"/bin/hackademy/ticket/461/attachment/e\"))\n",
    "ciphertext = c.get(\"/bin/hackademy/exam/rsa/most-significant-bit\")['ciphertext']\n",
    "\n",
    "#print(c.get(\"/bin/hackademy/ticket/461/attachment/indication-2\"))\n",
    "\n",
    "def RSA_461():\n",
    "    a = 0\n",
    "    b = n\n",
    "    i = 0\n",
    "    while(True):\n",
    "        if (a == b):\n",
    "            while (True):\n",
    "                if (lpowmod(a, e, n) == ciphertext):\n",
    "                    return a\n",
    "                else : \n",
    "                    a = a+1\n",
    "                    continue\n",
    "        cp = (lpowmod(2**i, e, n)*ciphertext) %n\n",
    "        oracle = c.post(\"/bin/hackademy/exam/rsa/most-significant-bit\", c= cp) \n",
    "        if oracle['MSB'] == False:\n",
    "            b = (a+b) //2\n",
    "        else:\n",
    "            a = (a+b) // 2\n",
    "        i = i+1\n",
    "#res = RSA_461()\n",
    "res = 681631428064810815510498153103820346728886007526894360635925507141131419013566643124070605714155018967927807629740826339780257570126138270889987229523006217304018084065509911688026542831155027519925892230368123938642895177040567989770801690302930231681114886967399998099341746487468585575773015563261721229184503496102247210914578408725874025705312567034315938582444998285742309633691915558970518379664149407692689509245516930737895838367547971458563717642330144\n",
    "\n",
    "i = res\n",
    "h = \"{0:016x}\".format(i)\n",
    "base64.b16decode(h, casefold=True)\n",
    "\"\"\"\n",
    "print()\n"
   ]
  },
  {
   "cell_type": "code",
   "execution_count": null,
   "metadata": {},
   "outputs": [],
   "source": []
  },
  {
   "cell_type": "code",
   "execution_count": null,
   "metadata": {},
   "outputs": [],
   "source": []
  },
  {
   "cell_type": "code",
   "execution_count": 83,
   "metadata": {},
   "outputs": [
    {
     "ename": "ServerError",
     "evalue": "ERREUR 500, Internal server error --- this is a bug.",
     "output_type": "error",
     "traceback": [
      "\u001b[0;31m---------------------------------------------------------------------------\u001b[0m",
      "\u001b[0;31mServerError\u001b[0m                               Traceback (most recent call last)",
      "\u001b[0;32m<ipython-input-83-1cbd0273f852>\u001b[0m in \u001b[0;36m<module>\u001b[0;34m\u001b[0m\n\u001b[1;32m      1\u001b[0m \u001b[0;31m#print(c.get('/bin/hackademy/ticket/455'))\u001b[0m\u001b[0;34m\u001b[0m\u001b[0;34m\u001b[0m\u001b[0;34m\u001b[0m\u001b[0m\n\u001b[1;32m      2\u001b[0m \u001b[0;34m\u001b[0m\u001b[0m\n\u001b[0;32m----> 3\u001b[0;31m \u001b[0mdata\u001b[0m \u001b[0;34m=\u001b[0m \u001b[0mc\u001b[0m\u001b[0;34m.\u001b[0m\u001b[0mget\u001b[0m\u001b[0;34m(\u001b[0m\u001b[0;34m'/bin/hackademy/exam/discrete-log/challenge/3'\u001b[0m\u001b[0;34m)\u001b[0m\u001b[0;34m\u001b[0m\u001b[0;34m\u001b[0m\u001b[0m\n\u001b[0m\u001b[1;32m      4\u001b[0m \u001b[0mp\u001b[0m \u001b[0;34m=\u001b[0m \u001b[0mdata\u001b[0m\u001b[0;34m[\u001b[0m\u001b[0;34m\"p\"\u001b[0m\u001b[0;34m]\u001b[0m\u001b[0;34m\u001b[0m\u001b[0;34m\u001b[0m\u001b[0m\n\u001b[1;32m      5\u001b[0m \u001b[0mg\u001b[0m \u001b[0;34m=\u001b[0m \u001b[0mdata\u001b[0m\u001b[0;34m[\u001b[0m\u001b[0;34m\"g\"\u001b[0m\u001b[0;34m]\u001b[0m\u001b[0;34m\u001b[0m\u001b[0;34m\u001b[0m\u001b[0m\n",
      "\u001b[0;32m<ipython-input-60-d5ea5a42d682>\u001b[0m in \u001b[0;36mget\u001b[0;34m(self, url)\u001b[0m\n\u001b[1;32m     84\u001b[0m         \u001b[0;31m# prépare la requête\u001b[0m\u001b[0;34m\u001b[0m\u001b[0;34m\u001b[0m\u001b[0;34m\u001b[0m\u001b[0m\n\u001b[1;32m     85\u001b[0m         \u001b[0mrequest\u001b[0m \u001b[0;34m=\u001b[0m \u001b[0murllib\u001b[0m\u001b[0;34m.\u001b[0m\u001b[0mrequest\u001b[0m\u001b[0;34m.\u001b[0m\u001b[0mRequest\u001b[0m\u001b[0;34m(\u001b[0m\u001b[0mself\u001b[0m\u001b[0;34m.\u001b[0m\u001b[0m_base\u001b[0m \u001b[0;34m+\u001b[0m \u001b[0murl\u001b[0m\u001b[0;34m,\u001b[0m \u001b[0mmethod\u001b[0m\u001b[0;34m=\u001b[0m\u001b[0;34m'GET'\u001b[0m\u001b[0;34m)\u001b[0m\u001b[0;34m\u001b[0m\u001b[0;34m\u001b[0m\u001b[0m\n\u001b[0;32m---> 86\u001b[0;31m         \u001b[0;32mreturn\u001b[0m \u001b[0mself\u001b[0m\u001b[0;34m.\u001b[0m\u001b[0m_query\u001b[0m\u001b[0;34m(\u001b[0m\u001b[0murl\u001b[0m\u001b[0;34m,\u001b[0m \u001b[0mrequest\u001b[0m\u001b[0;34m)\u001b[0m\u001b[0;34m\u001b[0m\u001b[0;34m\u001b[0m\u001b[0m\n\u001b[0m\u001b[1;32m     87\u001b[0m \u001b[0;34m\u001b[0m\u001b[0m\n\u001b[1;32m     88\u001b[0m \u001b[0;34m\u001b[0m\u001b[0m\n",
      "\u001b[0;32m<ipython-input-60-d5ea5a42d682>\u001b[0m in \u001b[0;36m_query\u001b[0;34m(self, url, request, data)\u001b[0m\n\u001b[1;32m    223\u001b[0m             \u001b[0mheaders\u001b[0m \u001b[0;34m=\u001b[0m \u001b[0mdict\u001b[0m\u001b[0;34m(\u001b[0m\u001b[0me\u001b[0m\u001b[0;34m.\u001b[0m\u001b[0mheaders\u001b[0m\u001b[0;34m)\u001b[0m\u001b[0;34m\u001b[0m\u001b[0;34m\u001b[0m\u001b[0m\n\u001b[1;32m    224\u001b[0m             \u001b[0mmessage\u001b[0m \u001b[0;34m=\u001b[0m \u001b[0me\u001b[0m\u001b[0;34m.\u001b[0m\u001b[0mread\u001b[0m\u001b[0;34m(\u001b[0m\u001b[0;34m)\u001b[0m\u001b[0;34m\u001b[0m\u001b[0;34m\u001b[0m\u001b[0m\n\u001b[0;32m--> 225\u001b[0;31m             \u001b[0;32mraise\u001b[0m \u001b[0mServerError\u001b[0m\u001b[0;34m(\u001b[0m\u001b[0me\u001b[0m\u001b[0;34m.\u001b[0m\u001b[0mcode\u001b[0m\u001b[0;34m,\u001b[0m \u001b[0mself\u001b[0m\u001b[0;34m.\u001b[0m\u001b[0m_post_process\u001b[0m\u001b[0;34m(\u001b[0m\u001b[0mmessage\u001b[0m\u001b[0;34m,\u001b[0m \u001b[0mheaders\u001b[0m\u001b[0;34m)\u001b[0m\u001b[0;34m)\u001b[0m \u001b[0;32mfrom\u001b[0m \u001b[0;32mNone\u001b[0m\u001b[0;34m\u001b[0m\u001b[0;34m\u001b[0m\u001b[0m\n\u001b[0m\u001b[1;32m    226\u001b[0m \u001b[0;34m\u001b[0m\u001b[0m\n\u001b[1;32m    227\u001b[0m \u001b[0;34m\u001b[0m\u001b[0m\n",
      "\u001b[0;31mServerError\u001b[0m: ERREUR 500, Internal server error --- this is a bug."
     ]
    }
   ],
   "source": [
    "#print(c.get('/bin/hackademy/ticket/455')) \n",
    "\n",
    "data = c.get('/bin/hackademy/exam/discrete-log/challenge/3')\n",
    "p = data[\"p\"]\n",
    "g = data[\"g\"]\n",
    "h = data[\"h\"]\n",
    "\n",
    "# 24993 / \n",
    "#print(c.get(\"/bin/hackademy/ticket/455/attachment/indication-1\"))\n",
    "\n",
    "#print(bsgs(g, h, p))\n",
    "\n",
    "#print(c.post('/bin/hackademy/exam/discrete-log/challenge/2',x = 24993))\n",
    "\n",
    "\n",
    "# A FAIRE ? deja rendu mais peut-etre peut remplacer "
   ]
  },
  {
   "cell_type": "code",
   "execution_count": null,
   "metadata": {},
   "outputs": [],
   "source": [
    "\n",
    "#print(c.get('/bin/hackademy/ticket/452')) \n",
    "#print(c.get(\"/bin/hackademy/ticket/452/attachment/indication-1\"))\n",
    "\n",
    "a = int(c.get(\"/bin/hackademy/ticket/452/attachment/a\"))\n",
    "b = int(c.get(\"/bin/hackademy/ticket/452/attachment/b\"))\n",
    "\n",
    "\n",
    "size = len(bin(a)[2:])\n",
    "\n"
   ]
  },
  {
   "cell_type": "code",
   "execution_count": null,
   "metadata": {},
   "outputs": [],
   "source": [
    "#print(c.get('/bin/hackademy/ticket/454')) \n",
    "a = int(c.get(\"/bin/hackademy/ticket/454/attachment/a\"))\n",
    "b = int(c.get(\"/bin/hackademy/ticket/454/attachment/b\"))\n",
    "q = int(c.get(\"/bin/hackademy/ticket/454/attachment/q\"))\n",
    "p = generate_prime_candidate(len(bin(a)))\n",
    "print(c.get(\"/bin/hackademy/ticket/454/attachment/indication-0\"))\n"
   ]
  },
  {
   "cell_type": "code",
   "execution_count": null,
   "metadata": {},
   "outputs": [],
   "source": []
  },
  {
   "cell_type": "code",
   "execution_count": null,
   "metadata": {},
   "outputs": [],
   "source": []
  },
  {
   "cell_type": "code",
   "execution_count": 89,
   "metadata": {},
   "outputs": [
    {
     "name": "stdout",
     "output_type": "stream",
     "text": [
      "0a1ff2dee7537859b45c7802babc0c0670858914bb7e7f710a3c9e8cc7a2ba0f\n",
      "Authenticated Key-Exchange successful. Access to /bin/gateway granted.\n"
     ]
    }
   ],
   "source": [
    "# =======================================================\n",
    "# ===================== DH ==============================\n",
    "# =======================================================\n",
    "\n",
    "#   ==== genere clefs et publie clef public ====\n",
    "#my_public_key,my_private_key =gen_keys('my_public_key.pem', 'my_private_key.pem')  \n",
    "#print(c.post('/bin/key-management/upload-pk', public_key=my_public_key,confirm=True )) \n",
    "#   ==== fin ===================================\n",
    "\n",
    "session_key = dh()\n"
   ]
  },
  {
   "cell_type": "code",
   "execution_count": null,
   "metadata": {},
   "outputs": [],
   "source": [
    "# ================ DH HACK ====================\n",
    "\n",
    "\n",
    "\"\"\"\n",
    "#print(passerelle_get(session_key,\"/bin/hackademy/ticket/462\"))\n",
    "#print(passerelle_get(session_key,\"/bin/hackademy/ticket/462/attachment/indication-1\"))\n",
    "\n",
    "#pkey = passerelle_get(session_key,\"/bin/key-management/music/pk\")\n",
    "#gen_fichier_pem('music_pk.pem', pkey) \n",
    "\n",
    "#print(maniere_dure('music_pk.pem').decode())\n",
    "\n",
    "n= '0x85B4A8CBD10F58C1E5E017FC6A33E2381CDF876848E14ED14491286292959886D256D00C5A640C941B54D5573ED15320779494FCAA2B55ABB3B92E9B758DA63D5723E5E668D4B4D90FBA60260F67AAEB241C3A049F991124F82BBBB751AD82C70965308D59FAD4EB4C0C9CCC6DACD4B61BC4F771E1285429E6580404DBFDEBFCE63F7B8890A32AB9D793D4D6093A0CEA826C3D00F636674DBCAC1C66DA75762500A818917F32F23801A5A3C6A87003CFDEA9C295B14A6B2570848D9EC9B68FD9054999D7467BD139BE3CD3867EFAA413A359951E0A3B9C541B2C718E0B024562C3177AF92BD669FFC632A247AD986D512AA358B3CF790D179B87E078A5C1B7'\n",
    "n = n.lower()\n",
    "n = int(n, 16)\n",
    "e= '0x010001'\n",
    "e = int(e,16)\n",
    "\n",
    "res = factorisation_bete(n)\n",
    "\n",
    "p = res[0]\n",
    "q = res[1]\n",
    "phi = (p-1)*(q-1)\n",
    "d = modinv(e,phi)\n",
    "\n",
    "#skey = c.post(\"/sbin/key-hack/rsa/sk\",p=p,q=q,e=e,d=d)\n",
    "#gen_fichier_pem('music_sk.pem', skey) \n",
    "\"\"\"\n",
    "\"\"\"\n",
    "challenge = (c.get(\"/bin/login/passwordless\"))['challenge']\n",
    "signa =base64.b64encode (prod_signature('music_sk.pem', 'signa_passwordless.txt', challenge)).decode()\n",
    "print(c.post(\"/bin/login/passwordless\",user='music', response=signa))\n",
    "\"\"\"\n",
    "print()"
   ]
  },
  {
   "cell_type": "code",
   "execution_count": null,
   "metadata": {},
   "outputs": [],
   "source": [
    "\n",
    "\"\"\"\n",
    "#print(passerelle_get(session_key,\"/bin/hackademy/ticket/463\"))\n",
    "#pkey = passerelle_get(session_key,\"/bin/key-management/programmer/pk\")\n",
    "#gen_fichier_pem('programmer_pk.pem', pkey) \n",
    "\n",
    "#print(passerelle_get(session_key,\"/bin/hackademy/ticket/463/attachment/indication-2\"))\n",
    "\n",
    "\n",
    "#print(maniere_dure('programmer_pk.pem').decode())\n",
    "n = '0x01556D3373B99C32CA33C3FCE52F8C7E4DFBC2A0CCE04CC9BE12EE3E1FAD3A9976EB7752F99D2CE49E37DB4DAD713033FECF277198ECB1C33A0F2882596890DE533C60E45002526E125679B77CF066B9B8A3E052EC80DE410004ED1AD48B3ED0705CFCF07711E64A4737EA2378C8B3278F2CD7301A895A5F0465ADE94BE96DC9DE3D060B6CD45FBC627797FDE87D36900530C30A08934A89C751C94770DB7E733D7B23A937EA82534BC6E01A596902A5AF2CBA249F57766A2C385C47B03AAAE4A210CAE8DECC1D6BA52638376ED8982350960B311AF619E7F5CEF303AFE0DF23830A66C644EE2231EF6113D599FF83C4489DECD5A518150263A1969E3F6C972EBD'\n",
    "n = n.lower()\n",
    "n = int(n, 16)\n",
    "e = '0x010001'\n",
    "e = int(e,16)\n",
    "\n",
    "d = time.time()\n",
    "#res = rho2(n)\n",
    "f= time.time()\n",
    "\n",
    "print(\"temps:\",f-d)\n",
    "\n",
    "#print(res)\n",
    "\n",
    "p = 386595100471583\n",
    "q = n//p\n",
    "phi = (p-1)*(q-1)\n",
    "d = modinv(e,phi)\n",
    "\n",
    "skey = c.post(\"/sbin/key-hack/rsa/sk\",p=p,q=q,e=e,d=d)\n",
    "gen_fichier_pem('programmer_sk.pem', skey) \n",
    "challenge = (c.get(\"/bin/login/passwordless\"))['challenge']\n",
    "signa =base64.b64encode (prod_signature('programmer_sk.pem', 'signa_passwordless.txt', challenge)).decode()\n",
    "print(c.post(\"/bin/login/passwordless\",user='programmer', response=signa))\n",
    "#print(c.get(\"/sbin/plugins-demo\"))\n",
    "\"\"\"\n",
    "print()"
   ]
  },
  {
   "cell_type": "code",
   "execution_count": null,
   "metadata": {},
   "outputs": [],
   "source": [
    "# A FAIRE HACK"
   ]
  },
  {
   "cell_type": "code",
   "execution_count": null,
   "metadata": {},
   "outputs": [],
   "source": []
  },
  {
   "cell_type": "code",
   "execution_count": 84,
   "metadata": {},
   "outputs": [],
   "source": [
    "#print(passerelle_get(session_key,'/bin/banks/drh'))  # BANK.ACCESS\n",
    "\n",
    "# A FAIRE PIERRE FEUILLE CISEAU"
   ]
  },
  {
   "cell_type": "code",
   "execution_count": 85,
   "metadata": {},
   "outputs": [],
   "source": [
    "# ==== REGLES ====\n",
    "\n",
    "#print(passerelle_get(session_key,'/bin/banks/drh/rules'))"
   ]
  },
  {
   "cell_type": "code",
   "execution_count": 86,
   "metadata": {},
   "outputs": [
    {
     "name": "stdout",
     "output_type": "stream",
     "text": [
      "684106780657411180242264819249626887370732342910273102231514096258938000577990354709562301052923946502129140690058307332362391364765496284062563708643638974406258149528828049592367304180672301896967692313572112702091177402605877133246791504154388253845627854238510305882308637115156017084465253478947711276994246959706134489684285849988318405772795840263420570361733171482660046795861611616828848259156317150734168650920494036326305085879076548951169227071497898\n"
     ]
    },
    {
     "ename": "ServerError",
     "evalue": "ERREUR 405, Method not allowed. You sent a POST method to /bin/gateway, which does not handle it.",
     "output_type": "error",
     "traceback": [
      "\u001b[0;31m---------------------------------------------------------------------------\u001b[0m",
      "\u001b[0;31mServerError\u001b[0m                               Traceback (most recent call last)",
      "\u001b[0;32m<ipython-input-86-67892738a722>\u001b[0m in \u001b[0;36m<module>\u001b[0;34m\u001b[0m\n\u001b[1;32m     18\u001b[0m \u001b[0mh\u001b[0m \u001b[0;34m=\u001b[0m \u001b[0mpow\u001b[0m\u001b[0;34m(\u001b[0m\u001b[0;36m2\u001b[0m\u001b[0;34m,\u001b[0m\u001b[0mx\u001b[0m\u001b[0;34m,\u001b[0m\u001b[0mp\u001b[0m\u001b[0;34m)\u001b[0m\u001b[0;34m\u001b[0m\u001b[0;34m\u001b[0m\u001b[0m\n\u001b[1;32m     19\u001b[0m \u001b[0mprint\u001b[0m\u001b[0;34m(\u001b[0m\u001b[0mh\u001b[0m\u001b[0;34m)\u001b[0m\u001b[0;34m\u001b[0m\u001b[0;34m\u001b[0m\u001b[0m\n\u001b[0;32m---> 20\u001b[0;31m \u001b[0mkeys_adv\u001b[0m \u001b[0;34m=\u001b[0m \u001b[0;34m(\u001b[0m\u001b[0mpasserelle_post\u001b[0m\u001b[0;34m(\u001b[0m\u001b[0msession_key\u001b[0m\u001b[0;34m,\u001b[0m\u001b[0;34m\"/bin/banks/assistant/start\"\u001b[0m\u001b[0;34m,\u001b[0m \u001b[0;34m{\u001b[0m\u001b[0;34m'p'\u001b[0m\u001b[0;34m:\u001b[0m \u001b[0mp\u001b[0m\u001b[0;34m,\u001b[0m \u001b[0;34m'g'\u001b[0m\u001b[0;34m:\u001b[0m\u001b[0mg\u001b[0m\u001b[0;34m,\u001b[0m \u001b[0;34m'h'\u001b[0m\u001b[0;34m:\u001b[0m\u001b[0mh\u001b[0m\u001b[0;34m}\u001b[0m\u001b[0;34m)\u001b[0m\u001b[0;34m)\u001b[0m\u001b[0;34m\u001b[0m\u001b[0;34m\u001b[0m\u001b[0m\n\u001b[0m\u001b[1;32m     21\u001b[0m \u001b[0mprint\u001b[0m\u001b[0;34m(\u001b[0m\u001b[0mkeys_adv\u001b[0m\u001b[0;34m)\u001b[0m\u001b[0;34m\u001b[0m\u001b[0;34m\u001b[0m\u001b[0m\n\u001b[1;32m     22\u001b[0m \u001b[0madv_h\u001b[0m \u001b[0;34m=\u001b[0m \u001b[0meval\u001b[0m\u001b[0;34m(\u001b[0m\u001b[0mkeys_adv\u001b[0m\u001b[0;34m)\u001b[0m\u001b[0;34m[\u001b[0m\u001b[0;34m'h'\u001b[0m\u001b[0;34m]\u001b[0m\u001b[0;34m\u001b[0m\u001b[0;34m\u001b[0m\u001b[0m\n",
      "\u001b[0;32m<ipython-input-60-efaa9503dc64>\u001b[0m in \u001b[0;36mpasserelle_post\u001b[0;34m(session_key, url, args)\u001b[0m\n\u001b[1;32m     21\u001b[0m     \u001b[0;31m#dico_encoded = base64.b64decode(dico_encoded)\u001b[0m\u001b[0;34m\u001b[0m\u001b[0;34m\u001b[0m\u001b[0;34m\u001b[0m\u001b[0m\n\u001b[1;32m     22\u001b[0m \u001b[0;34m\u001b[0m\u001b[0m\n\u001b[0;32m---> 23\u001b[0;31m     \u001b[0mretour\u001b[0m \u001b[0;34m=\u001b[0m \u001b[0mc\u001b[0m\u001b[0;34m.\u001b[0m\u001b[0mpost_raw\u001b[0m\u001b[0;34m(\u001b[0m\u001b[0;34m\"/bin/gateway\"\u001b[0m\u001b[0;34m,\u001b[0m \u001b[0mdico_encoded\u001b[0m\u001b[0;34m)\u001b[0m\u001b[0;34m\u001b[0m\u001b[0;34m\u001b[0m\u001b[0m\n\u001b[0m\u001b[1;32m     24\u001b[0m     \u001b[0;31m#retour = base64.b64encode(retour)+b'\\n'  # ajout de \\n car convention\u001b[0m\u001b[0;34m\u001b[0m\u001b[0;34m\u001b[0m\u001b[0;34m\u001b[0m\u001b[0m\n\u001b[1;32m     25\u001b[0m \u001b[0;34m\u001b[0m\u001b[0m\n",
      "\u001b[0;32m<ipython-input-60-d5ea5a42d682>\u001b[0m in \u001b[0;36mpost_raw\u001b[0;34m(self, url, data, content_type)\u001b[0m\n\u001b[1;32m    155\u001b[0m         \u001b[0mrequest\u001b[0m \u001b[0;34m=\u001b[0m \u001b[0murllib\u001b[0m\u001b[0;34m.\u001b[0m\u001b[0mrequest\u001b[0m\u001b[0;34m.\u001b[0m\u001b[0mRequest\u001b[0m\u001b[0;34m(\u001b[0m\u001b[0mself\u001b[0m\u001b[0;34m.\u001b[0m\u001b[0m_base\u001b[0m \u001b[0;34m+\u001b[0m \u001b[0murl\u001b[0m\u001b[0;34m,\u001b[0m \u001b[0mmethod\u001b[0m\u001b[0;34m=\u001b[0m\u001b[0;34m'POST'\u001b[0m\u001b[0;34m)\u001b[0m\u001b[0;34m\u001b[0m\u001b[0;34m\u001b[0m\u001b[0m\n\u001b[1;32m    156\u001b[0m         \u001b[0mrequest\u001b[0m\u001b[0;34m.\u001b[0m\u001b[0madd_header\u001b[0m\u001b[0;34m(\u001b[0m\u001b[0;34m'Content-type'\u001b[0m\u001b[0;34m,\u001b[0m \u001b[0mcontent_type\u001b[0m\u001b[0;34m)\u001b[0m\u001b[0;34m\u001b[0m\u001b[0;34m\u001b[0m\u001b[0m\n\u001b[0;32m--> 157\u001b[0;31m         \u001b[0;32mreturn\u001b[0m \u001b[0mself\u001b[0m\u001b[0;34m.\u001b[0m\u001b[0m_query\u001b[0m\u001b[0;34m(\u001b[0m\u001b[0murl\u001b[0m\u001b[0;34m,\u001b[0m \u001b[0mrequest\u001b[0m\u001b[0;34m,\u001b[0m \u001b[0mdata\u001b[0m\u001b[0;34m)\u001b[0m\u001b[0;34m\u001b[0m\u001b[0;34m\u001b[0m\u001b[0m\n\u001b[0m\u001b[1;32m    158\u001b[0m \u001b[0;34m\u001b[0m\u001b[0m\n\u001b[1;32m    159\u001b[0m     \u001b[0;32mdef\u001b[0m \u001b[0mclose_session\u001b[0m\u001b[0;34m(\u001b[0m\u001b[0mself\u001b[0m\u001b[0;34m)\u001b[0m\u001b[0;34m:\u001b[0m\u001b[0;34m\u001b[0m\u001b[0;34m\u001b[0m\u001b[0m\n",
      "\u001b[0;32m<ipython-input-60-d5ea5a42d682>\u001b[0m in \u001b[0;36m_query\u001b[0;34m(self, url, request, data)\u001b[0m\n\u001b[1;32m    223\u001b[0m             \u001b[0mheaders\u001b[0m \u001b[0;34m=\u001b[0m \u001b[0mdict\u001b[0m\u001b[0;34m(\u001b[0m\u001b[0me\u001b[0m\u001b[0;34m.\u001b[0m\u001b[0mheaders\u001b[0m\u001b[0;34m)\u001b[0m\u001b[0;34m\u001b[0m\u001b[0;34m\u001b[0m\u001b[0m\n\u001b[1;32m    224\u001b[0m             \u001b[0mmessage\u001b[0m \u001b[0;34m=\u001b[0m \u001b[0me\u001b[0m\u001b[0;34m.\u001b[0m\u001b[0mread\u001b[0m\u001b[0;34m(\u001b[0m\u001b[0;34m)\u001b[0m\u001b[0;34m\u001b[0m\u001b[0;34m\u001b[0m\u001b[0m\n\u001b[0;32m--> 225\u001b[0;31m             \u001b[0;32mraise\u001b[0m \u001b[0mServerError\u001b[0m\u001b[0;34m(\u001b[0m\u001b[0me\u001b[0m\u001b[0;34m.\u001b[0m\u001b[0mcode\u001b[0m\u001b[0;34m,\u001b[0m \u001b[0mself\u001b[0m\u001b[0;34m.\u001b[0m\u001b[0m_post_process\u001b[0m\u001b[0;34m(\u001b[0m\u001b[0mmessage\u001b[0m\u001b[0;34m,\u001b[0m \u001b[0mheaders\u001b[0m\u001b[0;34m)\u001b[0m\u001b[0;34m)\u001b[0m \u001b[0;32mfrom\u001b[0m \u001b[0;32mNone\u001b[0m\u001b[0;34m\u001b[0m\u001b[0;34m\u001b[0m\u001b[0m\n\u001b[0m\u001b[1;32m    226\u001b[0m \u001b[0;34m\u001b[0m\u001b[0m\n\u001b[1;32m    227\u001b[0m \u001b[0;34m\u001b[0m\u001b[0m\n",
      "\u001b[0;31mServerError\u001b[0m: ERREUR 405, Method not allowed. You sent a POST method to /bin/gateway, which does not handle it."
     ]
    }
   ],
   "source": [
    "\n",
    "p = int('FFFFFFFFFFFFFFFFC90FDAA22168C234C4C6628B80DC1CD1'\n",
    "        '29024E088A67CC74020BBEA63B139B22514A08798E3404DD'\n",
    "        'EF9519B3CD3A431B302B0A6DF25F14374FE1356D6D51C245'\n",
    "        'E485B576625E7EC6F44C42E9A637ED6B0BFF5CB6F406B7ED'\n",
    "        'EE386BFB5A899FA5AE9F24117C4B1FE649286651ECE45B3D'\n",
    "        'C2007CB8A163BF0598DA48361C55D39A69163FA8FD24CF5F'\n",
    "        '83655D23DCA3AD961C62F356208552BB9ED529077096966D'\n",
    "        '670C354E4ABC9804F1746C08CA237327FFFFFFFFFFFFFFFF', base=16)\n",
    "g = 2\n",
    "PIERRE = 88275625857605\n",
    "FEUILLE  = 19779480974019653\n",
    "CISEAUX  = 18939445432636760\n",
    "\n",
    "\n",
    "# 0\n",
    "\n",
    "x = random.randint(1,p)\n",
    "h = pow(2,x,p)\n",
    "print(h)\n",
    "keys_adv = (passerelle_post(session_key,\"/bin/banks/assistant/start\", {'p': p, 'g':g, 'h':h}))\n",
    "print(keys_adv)\n",
    "adv_h = eval(keys_adv)['h'] \n",
    "adv_p = eval(keys_adv)['p']\n",
    "adv_g = eval(keys_adv)['g']\n"
   ]
  },
  {
   "cell_type": "code",
   "execution_count": null,
   "metadata": {},
   "outputs": [],
   "source": [
    "def round():\n",
    "    # 1    \n",
    "    round1 = passerelle_get(session_key,\"/bin/banks/assistant/round\")\n",
    "    print(\"de l'adv\",round1)\n",
    "    \n",
    "    # 2\n",
    "    y = random.randint(1,p) \n",
    "    a = pow(g,y,p)\n",
    "    b = (CISEAUX* pow(h,y,p)) %p\n",
    "    print(\"y\", y)\n",
    "    print(\"a\",a)\n",
    "    print(\"b\",b)\n",
    "    \n",
    "    gage = passerelle_post(session_key,\"/bin/banks/assistant/move\",{'a':a, 'b':b})\n",
    "    print(\"de l'adv\",gage)\n",
    "    gage = eval(gage)\n",
    "    \n",
    "    # 3\n",
    "    res = passerelle_post(session_key, \"/bin/banks/assistant/outcome\",{'move':'CISEAUX', 'y':y})\n",
    "    print(res)\n",
    "    "
   ]
  },
  {
   "cell_type": "code",
   "execution_count": null,
   "metadata": {},
   "outputs": [],
   "source": [
    "for i in range(1):\n",
    "    round()"
   ]
  },
  {
   "cell_type": "code",
   "execution_count": null,
   "metadata": {},
   "outputs": [],
   "source": [
    "print(passerelle_post(session_key, \"/bin/banks/referee\",{}))"
   ]
  },
  {
   "cell_type": "code",
   "execution_count": null,
   "metadata": {},
   "outputs": [],
   "source": [
    "adv_a = 981061124402978828643940661108329547134767684512741813892528896233040141518379498259032829655792786441861663301573625253852025157248982243731152409401350764797824843889357104632480433554236704741609188862979900371362026342238904584459921230622824377799466077408172841505142894924055564707998753371038331923542933445510492780575596720868527198898631835686975169694772695758295405500566738062118916653841937737942903778051340535872991986944798837056136889732160140\n",
    "adv_b = 490576244230913490118323980112840054911817633553598198786745706008432864485849488432826514970236772981308582237458640545924610177296149578558431574491511601081202237288940340858330032838138262843851527647811353555672565015157309246090867059655779713789076064581738786602860735665295175973895395394245168941969980033747789755601474062997187997934331407838745131424851018156188818245000451079051263248125342712402933324634194987466596272742891575939747894026304392\n",
    "adv_y = 1536066198128589564019565488266903384131467530791221109807705751888776066279565905164509033149798607088826204846013983562778238287391304015615470835961977824351430147943231501425808082651227282415698254152288502710430733891971839480070600981551378435864051093655056198246192438211601701007760898217000657820061901051728807938872850508703058957513126678725950200469409216504674686659660371196290452132835404773798340366150913529352028290997446999937951536302720960\n",
    "COUP = CISEAUX\n",
    "y = 436924510424511464620074975860889162175472296214045139064199081238613554044345432023285773343108017671626916667310357580249951673999734370039176980224457045074895494055591594504136355851338974269751734663207853201433227932571504943805236981768515725881258535997144933092462551299675507557800411507810133545489403731531459612084528674650800960018426812709251809027503743044352336765360852245585130043787747261449728372226526855092033317568029099389164958222629496\n",
    "a=854231430451990472849505486450097631731831211269198961771887235313571720696683351380268635525967218462829533831784344627052634157986972816296972283859195542639239781426247270124357651841625431926966109215442284877416654013677411319643163587401893415925348288682588262097294423671091209624950409936327049629430387143396987499561592415686469635522951867177823425846375507895505435962329604372286241898699194046771445006784199292057915692231501596180827450292259874\n",
    "b= 545191153534472118179196038101459986386020835766110912301248951383498721095108298941165737172415359536430498580638043593557365113325485087391606196887400768995710162269057898402307021945272725234346301758253512291951025850403753593935754389883911189097062488327523037408683757842891095893766582613460016260838993519112404759402210680664329025259885558625478327581969471186115250378705729711708108192501427978971080274113237666414219908488599492684625915041253598\n",
    "#calc_a =  pow(adv_g,adv_y,p)\n",
    "#calc_b = (FEUILLE * pow(adv_h,adv_y,p)) %p\n",
    "\n",
    "\n",
    "#Message =adv_b * modinv( pow(adv_a,x,p), p) %p\n",
    "#print(Message)\n",
    "\n",
    "l = [88275625857605, 19779480974019653,18939445432636760 ]\n",
    "c = ['PIERRE','FEUILLE','CISEAUX' ]\n",
    "\n",
    "\n",
    "\n"
   ]
  },
  {
   "cell_type": "code",
   "execution_count": null,
   "metadata": {},
   "outputs": [],
   "source": []
  },
  {
   "cell_type": "code",
   "execution_count": null,
   "metadata": {},
   "outputs": [],
   "source": []
  },
  {
   "cell_type": "code",
   "execution_count": null,
   "metadata": {},
   "outputs": [],
   "source": []
  },
  {
   "cell_type": "code",
   "execution_count": 87,
   "metadata": {},
   "outputs": [
    {
     "name": "stdout",
     "output_type": "stream",
     "text": [
      "b'U2FsdGVkX1+pFWYJN7qT6sT3T0HC5zbFDPcoOR2UtQi1vCYWI38aKvQCJAWUgiyQroiWg+P/oZW8SDhyfoliGfTDU0FpmKlvmbmm/m+JJbxKiUliKNst9w1rzvlUeuZ0noy7TZD7lCf+1sDAn5hJ8Jd7AtICENrP72aQ84zVFFxk0a7hotx9S0K/HEV+Mk5L\\n'\n",
      "{\"content_found\": {\"foo\": 42}, \"[[kernel-monitord[42] UGLIX]]\": \"ECHO:14:1@265227|19a1b43b8873f8ac773808d3d45ae606\"}\n"
     ]
    }
   ],
   "source": [
    "# =========== test-gateway ============\n",
    "\n",
    "clef_session = 'debug-me'\n",
    "dico = json.dumps( {'method': 'POST', 'url': '/bin/echo', 'args': {'foo': 42}})\n",
    "\n",
    "dico_encoded = encrypt(dico, clef_session)\n",
    "dico_encoded = base64.b64decode(dico_encoded)\n",
    "\n",
    "retour = c.post_raw(\"/bin/test-gateway\", dico_encoded)\n",
    "retour = base64.b64encode(retour)+b'\\n'  # ajout de \\n car convention\n",
    "print(retour)\n",
    "print(decrypt(retour,clef_session))"
   ]
  },
  {
   "cell_type": "code",
   "execution_count": 88,
   "metadata": {},
   "outputs": [
    {
     "name": "stdout",
     "output_type": "stream",
     "text": [
      "b'U2FsdGVkX18jwjCC8X07U9cNmPI7GaP9Fk3FJNwwhGr/TRSLlZzUcWfsJ2WRv0OQUjLmQuVRG7l4ZUEUTDXjz1BR7uFSFXueIN7Vu1setRkZ4aKbOC7wbysEsFAUvdXUDuV08zTbgoxATabVvHTd7qEZszNxk3W2LXvjLkyxvZAB1521+V+lUf4dVN6aT+/u\\n'\n",
      "Sent: Väinö\n",
      "[[1586251194##kernel-monitord[42] UGLIX]]: TEST.GATEWAY:14:3@575088|c3e042b83a927699c643f26f67bc30bf\n"
     ]
    }
   ],
   "source": [
    "chaine = \"Väinö\"\n",
    "chaine_utf8 = chaine.encode()\n",
    "chaine_utf8 = base64.b64encode(chaine_utf8)\n",
    "\n",
    "dico = json.dumps({'method': 'PUT', 'url': '/bin/echo', 'data': 'VsOkaW7Dtg=='})\n",
    "\n",
    "dico_encoded = encrypt(dico, clef_session)\n",
    "dico_encoded = base64.b64decode(dico_encoded)\n",
    "\n",
    "retour = c.post_raw(\"/bin/test-gateway\", dico_encoded)\n",
    "retour = base64.b64encode(retour)+b'\\n'  # ajout de \\n car convention\n",
    "print(retour)\n",
    "print(decrypt(retour,clef_session))\n"
   ]
  },
  {
   "cell_type": "code",
   "execution_count": null,
   "metadata": {},
   "outputs": [],
   "source": []
  },
  {
   "cell_type": "code",
   "execution_count": null,
   "metadata": {},
   "outputs": [],
   "source": []
  },
  {
   "cell_type": "code",
   "execution_count": null,
   "metadata": {},
   "outputs": [],
   "source": []
  },
  {
   "cell_type": "code",
   "execution_count": null,
   "metadata": {},
   "outputs": [],
   "source": []
  },
  {
   "cell_type": "code",
   "execution_count": null,
   "metadata": {},
   "outputs": [],
   "source": []
  },
  {
   "cell_type": "code",
   "execution_count": null,
   "metadata": {},
   "outputs": [],
   "source": []
  },
  {
   "cell_type": "code",
   "execution_count": null,
   "metadata": {},
   "outputs": [],
   "source": []
  },
  {
   "cell_type": "code",
   "execution_count": null,
   "metadata": {},
   "outputs": [],
   "source": []
  },
  {
   "cell_type": "code",
   "execution_count": null,
   "metadata": {},
   "outputs": [],
   "source": []
  }
 ],
 "metadata": {
  "kernelspec": {
   "display_name": "Python 3",
   "language": "python",
   "name": "python3"
  },
  "language_info": {
   "codemirror_mode": {
    "name": "ipython",
    "version": 3
   },
   "file_extension": ".py",
   "mimetype": "text/x-python",
   "name": "python",
   "nbconvert_exporter": "python",
   "pygments_lexer": "ipython3",
   "version": "3.7.1"
  }
 },
 "nbformat": 4,
 "nbformat_minor": 2
}
